{
 "cells": [
  {
   "cell_type": "code",
   "execution_count": 66,
   "id": "6af07d09",
   "metadata": {},
   "outputs": [],
   "source": [
    "import numpy as np\n",
    "import pandas as pd\n",
    "from pandas import *\n",
    "import matplotlib.pyplot as plt\n",
    "import seaborn as sns\n",
    "\n",
    "from sklearn.model_selection import train_test_split\n",
    "from sklearn.preprocessing import StandardScaler\n",
    "from sklearn.preprocessing import LabelEncoder\n",
    "from sklearn.preprocessing import RobustScaler\n",
    "from sklearn.model_selection import train_test_split\n",
    "\n",
    "from sklearn.linear_model import LogisticRegression\n",
    "from sklearn.tree import DecisionTreeClassifier\n",
    "from sklearn.ensemble import RandomForestClassifier\n",
    "\n",
    "from sklearn.model_selection import cross_val_score\n",
    "from sklearn.model_selection import GridSearchCV\n",
    "\n",
    "from sklearn.ensemble import AdaBoostClassifier\n",
    "from sklearn.ensemble import GradientBoostingClassifier\n",
    "import xgboost as xgb\n",
    "import lightgbm as lgb\n",
    "#from catboost import CatBoostClassifier\n",
    "\n",
    "from sklearn.metrics import classification_report\n",
    "from imblearn.over_sampling import SMOTE\n"
   ]
  },
  {
   "cell_type": "code",
   "execution_count": 67,
   "id": "0857c3cc",
   "metadata": {},
   "outputs": [
    {
     "data": {
      "text/html": [
       "<div>\n",
       "<style scoped>\n",
       "    .dataframe tbody tr th:only-of-type {\n",
       "        vertical-align: middle;\n",
       "    }\n",
       "\n",
       "    .dataframe tbody tr th {\n",
       "        vertical-align: top;\n",
       "    }\n",
       "\n",
       "    .dataframe thead th {\n",
       "        text-align: right;\n",
       "    }\n",
       "</style>\n",
       "<table border=\"1\" class=\"dataframe\">\n",
       "  <thead>\n",
       "    <tr style=\"text-align: right;\">\n",
       "      <th></th>\n",
       "      <th>Time</th>\n",
       "      <th>V1</th>\n",
       "      <th>V2</th>\n",
       "      <th>V3</th>\n",
       "      <th>V4</th>\n",
       "      <th>V5</th>\n",
       "      <th>V6</th>\n",
       "      <th>V7</th>\n",
       "      <th>V8</th>\n",
       "      <th>V9</th>\n",
       "      <th>...</th>\n",
       "      <th>V21</th>\n",
       "      <th>V22</th>\n",
       "      <th>V23</th>\n",
       "      <th>V24</th>\n",
       "      <th>V25</th>\n",
       "      <th>V26</th>\n",
       "      <th>V27</th>\n",
       "      <th>V28</th>\n",
       "      <th>Amount</th>\n",
       "      <th>Class</th>\n",
       "    </tr>\n",
       "  </thead>\n",
       "  <tbody>\n",
       "    <tr>\n",
       "      <th>0</th>\n",
       "      <td>0.0</td>\n",
       "      <td>-1.359807</td>\n",
       "      <td>-0.072781</td>\n",
       "      <td>2.536347</td>\n",
       "      <td>1.378155</td>\n",
       "      <td>-0.338321</td>\n",
       "      <td>0.462388</td>\n",
       "      <td>0.239599</td>\n",
       "      <td>0.098698</td>\n",
       "      <td>0.363787</td>\n",
       "      <td>...</td>\n",
       "      <td>-0.018307</td>\n",
       "      <td>0.277838</td>\n",
       "      <td>-0.110474</td>\n",
       "      <td>0.066928</td>\n",
       "      <td>0.128539</td>\n",
       "      <td>-0.189115</td>\n",
       "      <td>0.133558</td>\n",
       "      <td>-0.021053</td>\n",
       "      <td>149.62</td>\n",
       "      <td>0</td>\n",
       "    </tr>\n",
       "    <tr>\n",
       "      <th>1</th>\n",
       "      <td>0.0</td>\n",
       "      <td>1.191857</td>\n",
       "      <td>0.266151</td>\n",
       "      <td>0.166480</td>\n",
       "      <td>0.448154</td>\n",
       "      <td>0.060018</td>\n",
       "      <td>-0.082361</td>\n",
       "      <td>-0.078803</td>\n",
       "      <td>0.085102</td>\n",
       "      <td>-0.255425</td>\n",
       "      <td>...</td>\n",
       "      <td>-0.225775</td>\n",
       "      <td>-0.638672</td>\n",
       "      <td>0.101288</td>\n",
       "      <td>-0.339846</td>\n",
       "      <td>0.167170</td>\n",
       "      <td>0.125895</td>\n",
       "      <td>-0.008983</td>\n",
       "      <td>0.014724</td>\n",
       "      <td>2.69</td>\n",
       "      <td>0</td>\n",
       "    </tr>\n",
       "    <tr>\n",
       "      <th>2</th>\n",
       "      <td>1.0</td>\n",
       "      <td>-1.358354</td>\n",
       "      <td>-1.340163</td>\n",
       "      <td>1.773209</td>\n",
       "      <td>0.379780</td>\n",
       "      <td>-0.503198</td>\n",
       "      <td>1.800499</td>\n",
       "      <td>0.791461</td>\n",
       "      <td>0.247676</td>\n",
       "      <td>-1.514654</td>\n",
       "      <td>...</td>\n",
       "      <td>0.247998</td>\n",
       "      <td>0.771679</td>\n",
       "      <td>0.909412</td>\n",
       "      <td>-0.689281</td>\n",
       "      <td>-0.327642</td>\n",
       "      <td>-0.139097</td>\n",
       "      <td>-0.055353</td>\n",
       "      <td>-0.059752</td>\n",
       "      <td>378.66</td>\n",
       "      <td>0</td>\n",
       "    </tr>\n",
       "    <tr>\n",
       "      <th>3</th>\n",
       "      <td>1.0</td>\n",
       "      <td>-0.966272</td>\n",
       "      <td>-0.185226</td>\n",
       "      <td>1.792993</td>\n",
       "      <td>-0.863291</td>\n",
       "      <td>-0.010309</td>\n",
       "      <td>1.247203</td>\n",
       "      <td>0.237609</td>\n",
       "      <td>0.377436</td>\n",
       "      <td>-1.387024</td>\n",
       "      <td>...</td>\n",
       "      <td>-0.108300</td>\n",
       "      <td>0.005274</td>\n",
       "      <td>-0.190321</td>\n",
       "      <td>-1.175575</td>\n",
       "      <td>0.647376</td>\n",
       "      <td>-0.221929</td>\n",
       "      <td>0.062723</td>\n",
       "      <td>0.061458</td>\n",
       "      <td>123.50</td>\n",
       "      <td>0</td>\n",
       "    </tr>\n",
       "    <tr>\n",
       "      <th>4</th>\n",
       "      <td>2.0</td>\n",
       "      <td>-1.158233</td>\n",
       "      <td>0.877737</td>\n",
       "      <td>1.548718</td>\n",
       "      <td>0.403034</td>\n",
       "      <td>-0.407193</td>\n",
       "      <td>0.095921</td>\n",
       "      <td>0.592941</td>\n",
       "      <td>-0.270533</td>\n",
       "      <td>0.817739</td>\n",
       "      <td>...</td>\n",
       "      <td>-0.009431</td>\n",
       "      <td>0.798278</td>\n",
       "      <td>-0.137458</td>\n",
       "      <td>0.141267</td>\n",
       "      <td>-0.206010</td>\n",
       "      <td>0.502292</td>\n",
       "      <td>0.219422</td>\n",
       "      <td>0.215153</td>\n",
       "      <td>69.99</td>\n",
       "      <td>0</td>\n",
       "    </tr>\n",
       "  </tbody>\n",
       "</table>\n",
       "<p>5 rows × 31 columns</p>\n",
       "</div>"
      ],
      "text/plain": [
       "   Time        V1        V2        V3        V4        V5        V6        V7  \\\n",
       "0   0.0 -1.359807 -0.072781  2.536347  1.378155 -0.338321  0.462388  0.239599   \n",
       "1   0.0  1.191857  0.266151  0.166480  0.448154  0.060018 -0.082361 -0.078803   \n",
       "2   1.0 -1.358354 -1.340163  1.773209  0.379780 -0.503198  1.800499  0.791461   \n",
       "3   1.0 -0.966272 -0.185226  1.792993 -0.863291 -0.010309  1.247203  0.237609   \n",
       "4   2.0 -1.158233  0.877737  1.548718  0.403034 -0.407193  0.095921  0.592941   \n",
       "\n",
       "         V8        V9  ...       V21       V22       V23       V24       V25  \\\n",
       "0  0.098698  0.363787  ... -0.018307  0.277838 -0.110474  0.066928  0.128539   \n",
       "1  0.085102 -0.255425  ... -0.225775 -0.638672  0.101288 -0.339846  0.167170   \n",
       "2  0.247676 -1.514654  ...  0.247998  0.771679  0.909412 -0.689281 -0.327642   \n",
       "3  0.377436 -1.387024  ... -0.108300  0.005274 -0.190321 -1.175575  0.647376   \n",
       "4 -0.270533  0.817739  ... -0.009431  0.798278 -0.137458  0.141267 -0.206010   \n",
       "\n",
       "        V26       V27       V28  Amount  Class  \n",
       "0 -0.189115  0.133558 -0.021053  149.62      0  \n",
       "1  0.125895 -0.008983  0.014724    2.69      0  \n",
       "2 -0.139097 -0.055353 -0.059752  378.66      0  \n",
       "3 -0.221929  0.062723  0.061458  123.50      0  \n",
       "4  0.502292  0.219422  0.215153   69.99      0  \n",
       "\n",
       "[5 rows x 31 columns]"
      ]
     },
     "execution_count": 67,
     "metadata": {},
     "output_type": "execute_result"
    }
   ],
   "source": [
    "data = pd.read_csv(\"/home/gsunilmadhusudanreddy/Training/Faurd Detection/creditcard.csv\")\n",
    "data.head()"
   ]
  },
  {
   "cell_type": "code",
   "execution_count": 68,
   "id": "a5763edb",
   "metadata": {},
   "outputs": [
    {
     "data": {
      "text/plain": [
       "0    284315\n",
       "1       492\n",
       "Name: Class, dtype: int64"
      ]
     },
     "execution_count": 68,
     "metadata": {},
     "output_type": "execute_result"
    }
   ],
   "source": [
    "count_classes = pd.value_counts(data['Class'], sort = False)\n",
    "count_classes"
   ]
  },
  {
   "cell_type": "code",
   "execution_count": 69,
   "id": "b2a8f7cd",
   "metadata": {},
   "outputs": [
    {
     "data": {
      "text/plain": [
       "<seaborn.axisgrid.FacetGrid at 0x7f7a2b98f070>"
      ]
     },
     "execution_count": 69,
     "metadata": {},
     "output_type": "execute_result"
    },
    {
     "data": {
      "image/png": "[encoded data removed]",
      "text/plain": [
       "<Figure size 360x360 with 1 Axes>"
      ]
     },
     "metadata": {
      "needs_background": "light"
     },
     "output_type": "display_data"
    }
   ],
   "source": [
    "sns.catplot(data=data, x=\"Class\", y=\"Time\", kind=\"box\")"
   ]
  },
  {
   "cell_type": "code",
   "execution_count": 70,
   "id": "810a52f3",
   "metadata": {},
   "outputs": [],
   "source": [
    "def missing_percentage(df):\n",
    "    total_missing = df.isnull().sum().sort_values(ascending=False)\n",
    "    missing_values = total_missing[total_missing.values !=0]\n",
    "    missing_cols = missing_values.index\n",
    "    \n",
    "    missing_cols = df[missing_cols].dtypes.values\n",
    "\n",
    "    per = round((missing_values/len(df))*100, 2)\n",
    "    missing_df = pd.DataFrame(missing_values, columns=['Number of missing values'])\n",
    "    \n",
    "    return missing_df.assign(Percentage=per, Dtype=missing_cols)\n",
    "\n",
    "    \"\"\"\n",
    "    This function return take data frame and return data frame \n",
    "    with columns name, the number of missing values and the percentage \n",
    "    of them in each column.\n",
    "    \"\"\""
   ]
  },
  {
   "cell_type": "code",
   "execution_count": 71,
   "id": "03a7ab77",
   "metadata": {},
   "outputs": [],
   "source": [
    "def show_distribution(df, col):\n",
    "    fig, ax = plt.subplots(1, 2, figsize=(20,8))\n",
    "    colors = generate_colors(1)\n",
    "    \n",
    "    sns.boxplot(data=df, x=col, ax=ax[0], palette=colors)\n",
    "    ax[0].set_title(f'{col.title()} Boxplot')\n",
    "    \n",
    "    sns.histplot(data=df, x=col, ax=ax[1], color=colors, kde=True)\n",
    "    ax[1].set_title(f'{col.title()} Histogram')\n",
    "    \n",
    "    fig.suptitle(f'{col.title()} Distribution'.replace('_', ' '), fontsize=15, color='brown')"
   ]
  },
  {
   "cell_type": "code",
   "execution_count": 72,
   "id": "3d74a054",
   "metadata": {},
   "outputs": [],
   "source": [
    "def show_outliers_accordingTo_target(data_frame, numeric_cols, target_col):\n",
    "    plt.figure(figsize=(20, 20))\n",
    "    for i in range(len(numeric_cols)):\n",
    "        plt.subplot(8,4, i+1)\n",
    "        sns.scatterplot(data=data_frame, x=numeric_cols[i], y=target_col, color=generate_colors(1))\n",
    "        plt.title(f'{numeric_cols[i].title()} According to the Target')\n",
    "        plt.subplots_adjust(hspace = 0.7, wspace=0.5)"
   ]
  },
  {
   "cell_type": "code",
   "execution_count": 73,
   "id": "2a693dc0",
   "metadata": {},
   "outputs": [
    {
     "data": {
      "text/html": [
       "<div>\n",
       "<style scoped>\n",
       "    .dataframe tbody tr th:only-of-type {\n",
       "        vertical-align: middle;\n",
       "    }\n",
       "\n",
       "    .dataframe tbody tr th {\n",
       "        vertical-align: top;\n",
       "    }\n",
       "\n",
       "    .dataframe thead th {\n",
       "        text-align: right;\n",
       "    }\n",
       "</style>\n",
       "<table border=\"1\" class=\"dataframe\">\n",
       "  <thead>\n",
       "    <tr style=\"text-align: right;\">\n",
       "      <th></th>\n",
       "      <th>Number of missing values</th>\n",
       "      <th>Percentage</th>\n",
       "      <th>Dtype</th>\n",
       "    </tr>\n",
       "  </thead>\n",
       "  <tbody>\n",
       "  </tbody>\n",
       "</table>\n",
       "</div>"
      ],
      "text/plain": [
       "Empty DataFrame\n",
       "Columns: [Number of missing values, Percentage, Dtype]\n",
       "Index: []"
      ]
     },
     "execution_count": 73,
     "metadata": {},
     "output_type": "execute_result"
    }
   ],
   "source": [
    "missing_percentage(data)"
   ]
  },
  {
   "cell_type": "code",
   "execution_count": 74,
   "id": "6a9e4425",
   "metadata": {},
   "outputs": [],
   "source": [
    "data.columns = data.columns.str.lower()"
   ]
  },
  {
   "cell_type": "code",
   "execution_count": 75,
   "id": "4678a4de",
   "metadata": {},
   "outputs": [
    {
     "data": {
      "image/png": "[encoded data removed]",
      "text/plain": [
       "<Figure size 432x288 with 1 Axes>"
      ]
     },
     "metadata": {
      "needs_background": "light"
     },
     "output_type": "display_data"
    }
   ],
   "source": [
    "ax = sns.countplot(x=\"class\", data=data)\n",
    "for p in ax.patches:\n",
    "   ax.annotate('{:.1f}'.format(p.get_height()), (p.get_x()+0.25, p.get_height()+0.01))\n",
    "plt.show()"
   ]
  },
  {
   "cell_type": "markdown",
   "id": "9ca11036",
   "metadata": {},
   "source": [
    "from sklearn.preprocessing import StandardScaler\n",
    "\n",
    "sc = StandardScaler()\n",
    "\n",
    "\n",
    "sc.fit(X)\n",
    "X_std = sc.transform(X)"
   ]
  },
  {
   "cell_type": "code",
   "execution_count": 76,
   "id": "cdae6a2c",
   "metadata": {},
   "outputs": [
    {
     "name": "stdout",
     "output_type": "stream",
     "text": [
      "(199364, 31)\n",
      "(85443, 31)\n"
     ]
    }
   ],
   "source": [
    "train, test = train_test_split(data, test_size=0.3, random_state=42, stratify= data[\"class\"])\n",
    "print(train.shape)\n",
    "print(test.shape)"
   ]
  },
  {
   "cell_type": "code",
   "execution_count": 77,
   "id": "a6bd442b",
   "metadata": {},
   "outputs": [],
   "source": [
    "from pca import pca\n",
    "x = train.drop('class', axis=1)"
   ]
  },
  {
   "cell_type": "code",
   "execution_count": 78,
   "id": "f8f096e8",
   "metadata": {},
   "outputs": [
    {
     "data": {
      "text/plain": [
       "Index(['time', 'v1', 'v2', 'v3', 'v4', 'v5', 'v6', 'v7', 'v8', 'v9', 'v10',\n",
       "       'v11', 'v12', 'v13', 'v14', 'v15', 'v16', 'v17', 'v18', 'v19', 'v20',\n",
       "       'v21', 'v22', 'v23', 'v24', 'v25', 'v26', 'v27', 'v28', 'amount'],\n",
       "      dtype='object')"
      ]
     },
     "execution_count": 78,
     "metadata": {},
     "output_type": "execute_result"
    }
   ],
   "source": [
    "x.columns"
   ]
  },
  {
   "cell_type": "code",
   "execution_count": 79,
   "id": "0f42ac5c",
   "metadata": {},
   "outputs": [
    {
     "name": "stdout",
     "output_type": "stream",
     "text": [
      "[pca] >Processing dataframe..\n",
      "[pca] >Normalizing input data per feature (zero mean and unit variance)..\n",
      "[pca] >The PCA reduction is performed to capture [95.0%] explained variance using the [30] columns of the input data.\n",
      "[pca] >Fit using PCA.\n",
      "[pca] >Compute loadings and PCs.\n",
      "[pca] >Compute explained variance.\n",
      "[pca] >Number of components is [27] that covers the [95.00%] explained variance.\n",
      "[pca] >The PCA reduction is performed on the [30] columns of the input dataframe.\n",
      "[pca] >Fit using PCA.\n",
      "[pca] >Compute loadings and PCs.\n",
      "[pca] >Outlier detection using Hotelling T2 test with alpha=[0.05] and n_components=[27]\n",
      "[pca] >Outlier detection using SPE/DmodX with n_std=[2]\n"
     ]
    }
   ],
   "source": [
    "model = pca(normalize=True)\n",
    "out = model.fit_transform(x)"
   ]
  },
  {
   "cell_type": "code",
   "execution_count": 80,
   "id": "6200ea5d",
   "metadata": {},
   "outputs": [
    {
     "data": {
      "text/plain": [
       "dict_keys(['loadings', 'PC', 'explained_var', 'variance_ratio', 'model', 'scaler', 'pcp', 'topfeat', 'outliers', 'outliers_params'])"
      ]
     },
     "execution_count": 80,
     "metadata": {},
     "output_type": "execute_result"
    }
   ],
   "source": [
    "out.keys()"
   ]
  },
  {
   "cell_type": "code",
   "execution_count": 81,
   "id": "93a3226e",
   "metadata": {},
   "outputs": [
    {
     "data": {
      "image/png": "[encoded data removed]",
      "text/plain": [
       "<Figure size 1080x720 with 1 Axes>"
      ]
     },
     "metadata": {
      "needs_background": "light"
     },
     "output_type": "display_data"
    },
    {
     "data": {
      "text/plain": [
       "(<Figure size 1080x720 with 1 Axes>,\n",
       " <AxesSubplot:title={'center':'Cumulative explained variance\\n 27 Principal Components explain [98.80%] of the variance.'}, xlabel='Principle Component', ylabel='Percentage explained variance'>)"
      ]
     },
     "execution_count": 81,
     "metadata": {},
     "output_type": "execute_result"
    },
    {
     "data": {
      "text/plain": [
       "<Figure size 432x288 with 0 Axes>"
      ]
     },
     "metadata": {},
     "output_type": "display_data"
    }
   ],
   "source": [
    "model.plot()"
   ]
  },
  {
   "cell_type": "code",
   "execution_count": 82,
   "id": "bba5ad4a",
   "metadata": {},
   "outputs": [
    {
     "data": {
      "text/plain": [
       "array(['amount', 'time', 'v20', 'v1', 'v12', 'v8', 'v26', 'v8', 'v8',\n",
       "       'v18', 'v21', 'v13', 'v25', 'v9', 'v17', 'v15', 'v12', 'v14',\n",
       "       'v19', 'v17', 'v16', 'v4', 'v1', 'v6', 'v5', 'v8', 'v10'],\n",
       "      dtype=object)"
      ]
     },
     "execution_count": 82,
     "metadata": {},
     "output_type": "execute_result"
    }
   ],
   "source": [
    "# Best 27 features according to pca\n",
    "pca_df = pd.DataFrame(out['topfeat'])\n",
    "before_scale = pca_df[pca_df['type']=='best'].feature.values\n",
    "before_scale"
   ]
  },
  {
   "cell_type": "code",
   "execution_count": 83,
   "id": "b624394b",
   "metadata": {},
   "outputs": [
    {
     "data": {
      "text/html": [
       "<div>\n",
       "<style scoped>\n",
       "    .dataframe tbody tr th:only-of-type {\n",
       "        vertical-align: middle;\n",
       "    }\n",
       "\n",
       "    .dataframe tbody tr th {\n",
       "        vertical-align: top;\n",
       "    }\n",
       "\n",
       "    .dataframe thead th {\n",
       "        text-align: right;\n",
       "    }\n",
       "</style>\n",
       "<table border=\"1\" class=\"dataframe\">\n",
       "  <thead>\n",
       "    <tr style=\"text-align: right;\">\n",
       "      <th></th>\n",
       "      <th>PC</th>\n",
       "      <th>feature</th>\n",
       "      <th>loading</th>\n",
       "      <th>type</th>\n",
       "    </tr>\n",
       "  </thead>\n",
       "  <tbody>\n",
       "    <tr>\n",
       "      <th>0</th>\n",
       "      <td>PC1</td>\n",
       "      <td>amount</td>\n",
       "      <td>0.705409</td>\n",
       "      <td>best</td>\n",
       "    </tr>\n",
       "    <tr>\n",
       "      <th>1</th>\n",
       "      <td>PC2</td>\n",
       "      <td>time</td>\n",
       "      <td>0.707157</td>\n",
       "      <td>best</td>\n",
       "    </tr>\n",
       "    <tr>\n",
       "      <th>2</th>\n",
       "      <td>PC3</td>\n",
       "      <td>v20</td>\n",
       "      <td>-0.558377</td>\n",
       "      <td>best</td>\n",
       "    </tr>\n",
       "    <tr>\n",
       "      <th>3</th>\n",
       "      <td>PC4</td>\n",
       "      <td>v1</td>\n",
       "      <td>-0.464342</td>\n",
       "      <td>best</td>\n",
       "    </tr>\n",
       "    <tr>\n",
       "      <th>4</th>\n",
       "      <td>PC5</td>\n",
       "      <td>v12</td>\n",
       "      <td>-0.410990</td>\n",
       "      <td>best</td>\n",
       "    </tr>\n",
       "    <tr>\n",
       "      <th>5</th>\n",
       "      <td>PC6</td>\n",
       "      <td>v8</td>\n",
       "      <td>-0.467378</td>\n",
       "      <td>best</td>\n",
       "    </tr>\n",
       "    <tr>\n",
       "      <th>6</th>\n",
       "      <td>PC7</td>\n",
       "      <td>v26</td>\n",
       "      <td>-0.493196</td>\n",
       "      <td>best</td>\n",
       "    </tr>\n",
       "    <tr>\n",
       "      <th>7</th>\n",
       "      <td>PC8</td>\n",
       "      <td>v8</td>\n",
       "      <td>0.369271</td>\n",
       "      <td>best</td>\n",
       "    </tr>\n",
       "    <tr>\n",
       "      <th>8</th>\n",
       "      <td>PC9</td>\n",
       "      <td>v8</td>\n",
       "      <td>-0.412119</td>\n",
       "      <td>best</td>\n",
       "    </tr>\n",
       "    <tr>\n",
       "      <th>9</th>\n",
       "      <td>PC10</td>\n",
       "      <td>v18</td>\n",
       "      <td>0.505184</td>\n",
       "      <td>best</td>\n",
       "    </tr>\n",
       "    <tr>\n",
       "      <th>10</th>\n",
       "      <td>PC11</td>\n",
       "      <td>v21</td>\n",
       "      <td>-0.491195</td>\n",
       "      <td>best</td>\n",
       "    </tr>\n",
       "    <tr>\n",
       "      <th>11</th>\n",
       "      <td>PC12</td>\n",
       "      <td>v13</td>\n",
       "      <td>0.487868</td>\n",
       "      <td>best</td>\n",
       "    </tr>\n",
       "    <tr>\n",
       "      <th>12</th>\n",
       "      <td>PC13</td>\n",
       "      <td>v25</td>\n",
       "      <td>-0.352618</td>\n",
       "      <td>best</td>\n",
       "    </tr>\n",
       "    <tr>\n",
       "      <th>13</th>\n",
       "      <td>PC14</td>\n",
       "      <td>v9</td>\n",
       "      <td>0.514816</td>\n",
       "      <td>best</td>\n",
       "    </tr>\n",
       "    <tr>\n",
       "      <th>14</th>\n",
       "      <td>PC15</td>\n",
       "      <td>v17</td>\n",
       "      <td>0.510267</td>\n",
       "      <td>best</td>\n",
       "    </tr>\n",
       "    <tr>\n",
       "      <th>15</th>\n",
       "      <td>PC16</td>\n",
       "      <td>v15</td>\n",
       "      <td>0.483739</td>\n",
       "      <td>best</td>\n",
       "    </tr>\n",
       "    <tr>\n",
       "      <th>16</th>\n",
       "      <td>PC17</td>\n",
       "      <td>v12</td>\n",
       "      <td>-0.433062</td>\n",
       "      <td>best</td>\n",
       "    </tr>\n",
       "    <tr>\n",
       "      <th>17</th>\n",
       "      <td>PC18</td>\n",
       "      <td>v14</td>\n",
       "      <td>-0.447161</td>\n",
       "      <td>best</td>\n",
       "    </tr>\n",
       "    <tr>\n",
       "      <th>18</th>\n",
       "      <td>PC19</td>\n",
       "      <td>v19</td>\n",
       "      <td>-0.486086</td>\n",
       "      <td>best</td>\n",
       "    </tr>\n",
       "    <tr>\n",
       "      <th>19</th>\n",
       "      <td>PC20</td>\n",
       "      <td>v17</td>\n",
       "      <td>-0.365857</td>\n",
       "      <td>best</td>\n",
       "    </tr>\n",
       "    <tr>\n",
       "      <th>20</th>\n",
       "      <td>PC21</td>\n",
       "      <td>v16</td>\n",
       "      <td>-0.391032</td>\n",
       "      <td>best</td>\n",
       "    </tr>\n",
       "    <tr>\n",
       "      <th>21</th>\n",
       "      <td>PC22</td>\n",
       "      <td>v4</td>\n",
       "      <td>-0.414481</td>\n",
       "      <td>best</td>\n",
       "    </tr>\n",
       "    <tr>\n",
       "      <th>22</th>\n",
       "      <td>PC23</td>\n",
       "      <td>v1</td>\n",
       "      <td>-0.430556</td>\n",
       "      <td>best</td>\n",
       "    </tr>\n",
       "    <tr>\n",
       "      <th>23</th>\n",
       "      <td>PC24</td>\n",
       "      <td>v6</td>\n",
       "      <td>-0.438937</td>\n",
       "      <td>best</td>\n",
       "    </tr>\n",
       "    <tr>\n",
       "      <th>24</th>\n",
       "      <td>PC25</td>\n",
       "      <td>v5</td>\n",
       "      <td>-0.409661</td>\n",
       "      <td>best</td>\n",
       "    </tr>\n",
       "    <tr>\n",
       "      <th>25</th>\n",
       "      <td>PC26</td>\n",
       "      <td>v8</td>\n",
       "      <td>0.471405</td>\n",
       "      <td>best</td>\n",
       "    </tr>\n",
       "    <tr>\n",
       "      <th>26</th>\n",
       "      <td>PC27</td>\n",
       "      <td>v10</td>\n",
       "      <td>-0.454253</td>\n",
       "      <td>best</td>\n",
       "    </tr>\n",
       "    <tr>\n",
       "      <th>27</th>\n",
       "      <td>PC1</td>\n",
       "      <td>v2</td>\n",
       "      <td>-0.387714</td>\n",
       "      <td>weak</td>\n",
       "    </tr>\n",
       "    <tr>\n",
       "      <th>28</th>\n",
       "      <td>PC2</td>\n",
       "      <td>v3</td>\n",
       "      <td>-0.439533</td>\n",
       "      <td>weak</td>\n",
       "    </tr>\n",
       "    <tr>\n",
       "      <th>29</th>\n",
       "      <td>PC26</td>\n",
       "      <td>v7</td>\n",
       "      <td>-0.451603</td>\n",
       "      <td>weak</td>\n",
       "    </tr>\n",
       "    <tr>\n",
       "      <th>30</th>\n",
       "      <td>PC19</td>\n",
       "      <td>v11</td>\n",
       "      <td>-0.348746</td>\n",
       "      <td>weak</td>\n",
       "    </tr>\n",
       "    <tr>\n",
       "      <th>31</th>\n",
       "      <td>PC6</td>\n",
       "      <td>v22</td>\n",
       "      <td>-0.378995</td>\n",
       "      <td>weak</td>\n",
       "    </tr>\n",
       "    <tr>\n",
       "      <th>32</th>\n",
       "      <td>PC17</td>\n",
       "      <td>v23</td>\n",
       "      <td>-0.314713</td>\n",
       "      <td>weak</td>\n",
       "    </tr>\n",
       "    <tr>\n",
       "      <th>33</th>\n",
       "      <td>PC16</td>\n",
       "      <td>v24</td>\n",
       "      <td>-0.449833</td>\n",
       "      <td>weak</td>\n",
       "    </tr>\n",
       "    <tr>\n",
       "      <th>34</th>\n",
       "      <td>PC7</td>\n",
       "      <td>v27</td>\n",
       "      <td>-0.369230</td>\n",
       "      <td>weak</td>\n",
       "    </tr>\n",
       "    <tr>\n",
       "      <th>35</th>\n",
       "      <td>PC27</td>\n",
       "      <td>v28</td>\n",
       "      <td>0.447989</td>\n",
       "      <td>weak</td>\n",
       "    </tr>\n",
       "  </tbody>\n",
       "</table>\n",
       "</div>"
      ],
      "text/plain": [
       "      PC feature   loading  type\n",
       "0    PC1  amount  0.705409  best\n",
       "1    PC2    time  0.707157  best\n",
       "2    PC3     v20 -0.558377  best\n",
       "3    PC4      v1 -0.464342  best\n",
       "4    PC5     v12 -0.410990  best\n",
       "5    PC6      v8 -0.467378  best\n",
       "6    PC7     v26 -0.493196  best\n",
       "7    PC8      v8  0.369271  best\n",
       "8    PC9      v8 -0.412119  best\n",
       "9   PC10     v18  0.505184  best\n",
       "10  PC11     v21 -0.491195  best\n",
       "11  PC12     v13  0.487868  best\n",
       "12  PC13     v25 -0.352618  best\n",
       "13  PC14      v9  0.514816  best\n",
       "14  PC15     v17  0.510267  best\n",
       "15  PC16     v15  0.483739  best\n",
       "16  PC17     v12 -0.433062  best\n",
       "17  PC18     v14 -0.447161  best\n",
       "18  PC19     v19 -0.486086  best\n",
       "19  PC20     v17 -0.365857  best\n",
       "20  PC21     v16 -0.391032  best\n",
       "21  PC22      v4 -0.414481  best\n",
       "22  PC23      v1 -0.430556  best\n",
       "23  PC24      v6 -0.438937  best\n",
       "24  PC25      v5 -0.409661  best\n",
       "25  PC26      v8  0.471405  best\n",
       "26  PC27     v10 -0.454253  best\n",
       "27   PC1      v2 -0.387714  weak\n",
       "28   PC2      v3 -0.439533  weak\n",
       "29  PC26      v7 -0.451603  weak\n",
       "30  PC19     v11 -0.348746  weak\n",
       "31   PC6     v22 -0.378995  weak\n",
       "32  PC17     v23 -0.314713  weak\n",
       "33  PC16     v24 -0.449833  weak\n",
       "34   PC7     v27 -0.369230  weak\n",
       "35  PC27     v28  0.447989  weak"
      ]
     },
     "execution_count": 83,
     "metadata": {},
     "output_type": "execute_result"
    }
   ],
   "source": [
    "pca_df"
   ]
  },
  {
   "cell_type": "code",
   "execution_count": 84,
   "id": "f56457d8",
   "metadata": {},
   "outputs": [
    {
     "data": {
      "text/plain": [
       "Index(['time', 'v1', 'v2', 'v3', 'v4', 'v5', 'v6', 'v7', 'v8', 'v9', 'v10',\n",
       "       'v11', 'v12', 'v13', 'v14', 'v15', 'v16', 'v17', 'v18', 'v19', 'v20',\n",
       "       'v21', 'v22', 'v23', 'v24', 'v25', 'v26', 'v27', 'v28', 'amount',\n",
       "       'class'],\n",
       "      dtype='object')"
      ]
     },
     "execution_count": 84,
     "metadata": {},
     "output_type": "execute_result"
    }
   ],
   "source": [
    "col_name = train.columns\n",
    "col_name"
   ]
  },
  {
   "cell_type": "code",
   "execution_count": 85,
   "id": "8f3b100e",
   "metadata": {},
   "outputs": [],
   "source": [
    "# Let's now try scalling and apply pca once time to see if it will change or not\n",
    "# I will use robust scaler because of outliers\n",
    "x = train.drop('class', axis=1)\n",
    "y = train['class']\n",
    "\n",
    "rs = RobustScaler()\n",
    "x = rs.fit_transform(x)"
   ]
  },
  {
   "cell_type": "code",
   "execution_count": 86,
   "id": "7330518d",
   "metadata": {},
   "outputs": [
    {
     "data": {
      "text/html": [
       "<div>\n",
       "<style scoped>\n",
       "    .dataframe tbody tr th:only-of-type {\n",
       "        vertical-align: middle;\n",
       "    }\n",
       "\n",
       "    .dataframe tbody tr th {\n",
       "        vertical-align: top;\n",
       "    }\n",
       "\n",
       "    .dataframe thead th {\n",
       "        text-align: right;\n",
       "    }\n",
       "</style>\n",
       "<table border=\"1\" class=\"dataframe\">\n",
       "  <thead>\n",
       "    <tr style=\"text-align: right;\">\n",
       "      <th></th>\n",
       "      <th>time</th>\n",
       "      <th>v1</th>\n",
       "      <th>v2</th>\n",
       "      <th>v3</th>\n",
       "      <th>v4</th>\n",
       "      <th>v5</th>\n",
       "      <th>v6</th>\n",
       "      <th>v7</th>\n",
       "      <th>v8</th>\n",
       "      <th>v9</th>\n",
       "      <th>...</th>\n",
       "      <th>v20</th>\n",
       "      <th>v21</th>\n",
       "      <th>v22</th>\n",
       "      <th>v23</th>\n",
       "      <th>v24</th>\n",
       "      <th>v25</th>\n",
       "      <th>v26</th>\n",
       "      <th>v27</th>\n",
       "      <th>v28</th>\n",
       "      <th>amount</th>\n",
       "    </tr>\n",
       "  </thead>\n",
       "  <tbody>\n",
       "    <tr>\n",
       "      <th>0</th>\n",
       "      <td>0.820038</td>\n",
       "      <td>-0.013258</td>\n",
       "      <td>0.457338</td>\n",
       "      <td>-0.008888</td>\n",
       "      <td>-0.462488</td>\n",
       "      <td>0.495620</td>\n",
       "      <td>-0.325006</td>\n",
       "      <td>0.714944</td>\n",
       "      <td>-0.045992</td>\n",
       "      <td>-0.108169</td>\n",
       "      <td>...</td>\n",
       "      <td>0.070669</td>\n",
       "      <td>-0.487382</td>\n",
       "      <td>-0.540678</td>\n",
       "      <td>0.171804</td>\n",
       "      <td>-0.506273</td>\n",
       "      <td>-0.765995</td>\n",
       "      <td>0.342963</td>\n",
       "      <td>1.449661</td>\n",
       "      <td>0.552631</td>\n",
       "      <td>-0.207017</td>\n",
       "    </tr>\n",
       "    <tr>\n",
       "      <th>1</th>\n",
       "      <td>0.642447</td>\n",
       "      <td>0.786899</td>\n",
       "      <td>-0.177339</td>\n",
       "      <td>-1.243910</td>\n",
       "      <td>0.762207</td>\n",
       "      <td>0.513624</td>\n",
       "      <td>-0.635958</td>\n",
       "      <td>0.781312</td>\n",
       "      <td>-0.766521</td>\n",
       "      <td>-0.216077</td>\n",
       "      <td>...</td>\n",
       "      <td>0.093557</td>\n",
       "      <td>0.747736</td>\n",
       "      <td>0.488919</td>\n",
       "      <td>-0.715134</td>\n",
       "      <td>-0.482616</td>\n",
       "      <td>0.713481</td>\n",
       "      <td>-0.661569</td>\n",
       "      <td>-0.473392</td>\n",
       "      <td>-0.518549</td>\n",
       "      <td>1.781985</td>\n",
       "    </tr>\n",
       "    <tr>\n",
       "      <th>2</th>\n",
       "      <td>-0.177033</td>\n",
       "      <td>-0.492609</td>\n",
       "      <td>-3.205580</td>\n",
       "      <td>-0.824190</td>\n",
       "      <td>0.308390</td>\n",
       "      <td>-1.551221</td>\n",
       "      <td>-0.421529</td>\n",
       "      <td>1.387841</td>\n",
       "      <td>-1.367367</td>\n",
       "      <td>-0.998296</td>\n",
       "      <td>...</td>\n",
       "      <td>6.531339</td>\n",
       "      <td>0.905019</td>\n",
       "      <td>-1.344212</td>\n",
       "      <td>-3.505107</td>\n",
       "      <td>0.585339</td>\n",
       "      <td>-0.234616</td>\n",
       "      <td>1.624359</td>\n",
       "      <td>-1.967544</td>\n",
       "      <td>1.650955</td>\n",
       "      <td>17.826674</td>\n",
       "    </tr>\n",
       "    <tr>\n",
       "      <th>3</th>\n",
       "      <td>-0.427352</td>\n",
       "      <td>-0.240002</td>\n",
       "      <td>0.683433</td>\n",
       "      <td>-0.414727</td>\n",
       "      <td>-0.477866</td>\n",
       "      <td>1.941030</td>\n",
       "      <td>3.090688</td>\n",
       "      <td>0.005005</td>\n",
       "      <td>1.440514</td>\n",
       "      <td>-0.219439</td>\n",
       "      <td>...</td>\n",
       "      <td>0.837177</td>\n",
       "      <td>-0.395127</td>\n",
       "      <td>-0.667624</td>\n",
       "      <td>0.504138</td>\n",
       "      <td>1.137301</td>\n",
       "      <td>-1.205636</td>\n",
       "      <td>0.162145</td>\n",
       "      <td>0.058323</td>\n",
       "      <td>1.852793</td>\n",
       "      <td>-0.243770</td>\n",
       "    </tr>\n",
       "    <tr>\n",
       "      <th>4</th>\n",
       "      <td>0.522898</td>\n",
       "      <td>-0.294401</td>\n",
       "      <td>0.105010</td>\n",
       "      <td>0.053717</td>\n",
       "      <td>-1.110251</td>\n",
       "      <td>2.049579</td>\n",
       "      <td>3.681433</td>\n",
       "      <td>-0.212831</td>\n",
       "      <td>1.707288</td>\n",
       "      <td>0.422861</td>\n",
       "      <td>...</td>\n",
       "      <td>0.629375</td>\n",
       "      <td>0.474843</td>\n",
       "      <td>0.702918</td>\n",
       "      <td>-1.002743</td>\n",
       "      <td>0.915346</td>\n",
       "      <td>-0.150734</td>\n",
       "      <td>1.171259</td>\n",
       "      <td>0.449082</td>\n",
       "      <td>-0.340076</td>\n",
       "      <td>-0.243770</td>\n",
       "    </tr>\n",
       "  </tbody>\n",
       "</table>\n",
       "<p>5 rows × 30 columns</p>\n",
       "</div>"
      ],
      "text/plain": [
       "       time        v1        v2        v3        v4        v5        v6  \\\n",
       "0  0.820038 -0.013258  0.457338 -0.008888 -0.462488  0.495620 -0.325006   \n",
       "1  0.642447  0.786899 -0.177339 -1.243910  0.762207  0.513624 -0.635958   \n",
       "2 -0.177033 -0.492609 -3.205580 -0.824190  0.308390 -1.551221 -0.421529   \n",
       "3 -0.427352 -0.240002  0.683433 -0.414727 -0.477866  1.941030  3.090688   \n",
       "4  0.522898 -0.294401  0.105010  0.053717 -1.110251  2.049579  3.681433   \n",
       "\n",
       "         v7        v8        v9  ...       v20       v21       v22       v23  \\\n",
       "0  0.714944 -0.045992 -0.108169  ...  0.070669 -0.487382 -0.540678  0.171804   \n",
       "1  0.781312 -0.766521 -0.216077  ...  0.093557  0.747736  0.488919 -0.715134   \n",
       "2  1.387841 -1.367367 -0.998296  ...  6.531339  0.905019 -1.344212 -3.505107   \n",
       "3  0.005005  1.440514 -0.219439  ...  0.837177 -0.395127 -0.667624  0.504138   \n",
       "4 -0.212831  1.707288  0.422861  ...  0.629375  0.474843  0.702918 -1.002743   \n",
       "\n",
       "        v24       v25       v26       v27       v28     amount  \n",
       "0 -0.506273 -0.765995  0.342963  1.449661  0.552631  -0.207017  \n",
       "1 -0.482616  0.713481 -0.661569 -0.473392 -0.518549   1.781985  \n",
       "2  0.585339 -0.234616  1.624359 -1.967544  1.650955  17.826674  \n",
       "3  1.137301 -1.205636  0.162145  0.058323  1.852793  -0.243770  \n",
       "4  0.915346 -0.150734  1.171259  0.449082 -0.340076  -0.243770  \n",
       "\n",
       "[5 rows x 30 columns]"
      ]
     },
     "execution_count": 86,
     "metadata": {},
     "output_type": "execute_result"
    }
   ],
   "source": [
    "x= pd.DataFrame(x, columns=col_name[:-1])\n",
    "x.head()"
   ]
  },
  {
   "cell_type": "code",
   "execution_count": 87,
   "id": "bb628192",
   "metadata": {},
   "outputs": [
    {
     "data": {
      "text/html": [
       "<div>\n",
       "<style scoped>\n",
       "    .dataframe tbody tr th:only-of-type {\n",
       "        vertical-align: middle;\n",
       "    }\n",
       "\n",
       "    .dataframe tbody tr th {\n",
       "        vertical-align: top;\n",
       "    }\n",
       "\n",
       "    .dataframe thead th {\n",
       "        text-align: right;\n",
       "    }\n",
       "</style>\n",
       "<table border=\"1\" class=\"dataframe\">\n",
       "  <thead>\n",
       "    <tr style=\"text-align: right;\">\n",
       "      <th></th>\n",
       "      <th>time</th>\n",
       "      <th>v1</th>\n",
       "      <th>v2</th>\n",
       "      <th>v3</th>\n",
       "      <th>v4</th>\n",
       "      <th>v5</th>\n",
       "      <th>v6</th>\n",
       "      <th>v7</th>\n",
       "      <th>v8</th>\n",
       "      <th>v9</th>\n",
       "      <th>...</th>\n",
       "      <th>v21</th>\n",
       "      <th>v22</th>\n",
       "      <th>v23</th>\n",
       "      <th>v24</th>\n",
       "      <th>v25</th>\n",
       "      <th>v26</th>\n",
       "      <th>v27</th>\n",
       "      <th>v28</th>\n",
       "      <th>amount</th>\n",
       "      <th>class</th>\n",
       "    </tr>\n",
       "  </thead>\n",
       "  <tbody>\n",
       "    <tr>\n",
       "      <th>0</th>\n",
       "      <td>154640.0</td>\n",
       "      <td>-0.012102</td>\n",
       "      <td>0.707332</td>\n",
       "      <td>0.163334</td>\n",
       "      <td>-0.756498</td>\n",
       "      <td>0.590999</td>\n",
       "      <td>-0.653429</td>\n",
       "      <td>0.844608</td>\n",
       "      <td>-0.001672</td>\n",
       "      <td>-0.184399</td>\n",
       "      <td>...</td>\n",
       "      <td>-0.231385</td>\n",
       "      <td>-0.572415</td>\n",
       "      <td>0.042660</td>\n",
       "      <td>-0.360882</td>\n",
       "      <td>-0.494703</td>\n",
       "      <td>0.142657</td>\n",
       "      <td>0.235922</td>\n",
       "      <td>0.083758</td>\n",
       "      <td>7.13</td>\n",
       "      <td>0</td>\n",
       "    </tr>\n",
       "    <tr>\n",
       "      <th>1</th>\n",
       "      <td>139525.0</td>\n",
       "      <td>1.776151</td>\n",
       "      <td>-0.184642</td>\n",
       "      <td>-2.204096</td>\n",
       "      <td>1.191668</td>\n",
       "      <td>0.614461</td>\n",
       "      <td>-1.016525</td>\n",
       "      <td>0.919254</td>\n",
       "      <td>-0.387465</td>\n",
       "      <td>-0.318277</td>\n",
       "      <td>...</td>\n",
       "      <td>0.281190</td>\n",
       "      <td>0.530070</td>\n",
       "      <td>-0.232262</td>\n",
       "      <td>-0.342096</td>\n",
       "      <td>0.492355</td>\n",
       "      <td>-0.427682</td>\n",
       "      <td>-0.075228</td>\n",
       "      <td>-0.056755</td>\n",
       "      <td>150.00</td>\n",
       "      <td>0</td>\n",
       "    </tr>\n",
       "    <tr>\n",
       "      <th>2</th>\n",
       "      <td>69778.0</td>\n",
       "      <td>-1.083391</td>\n",
       "      <td>-4.440527</td>\n",
       "      <td>-1.399530</td>\n",
       "      <td>0.469764</td>\n",
       "      <td>-2.076458</td>\n",
       "      <td>-0.766137</td>\n",
       "      <td>1.601441</td>\n",
       "      <td>-0.709176</td>\n",
       "      <td>-1.288745</td>\n",
       "      <td>...</td>\n",
       "      <td>0.346463</td>\n",
       "      <td>-1.432833</td>\n",
       "      <td>-1.097063</td>\n",
       "      <td>0.505926</td>\n",
       "      <td>-0.140185</td>\n",
       "      <td>0.870190</td>\n",
       "      <td>-0.316982</td>\n",
       "      <td>0.227833</td>\n",
       "      <td>1302.49</td>\n",
       "      <td>0</td>\n",
       "    </tr>\n",
       "    <tr>\n",
       "      <th>3</th>\n",
       "      <td>48473.0</td>\n",
       "      <td>-0.518847</td>\n",
       "      <td>1.025087</td>\n",
       "      <td>-0.614624</td>\n",
       "      <td>-0.780959</td>\n",
       "      <td>2.474666</td>\n",
       "      <td>3.335055</td>\n",
       "      <td>0.046111</td>\n",
       "      <td>0.794249</td>\n",
       "      <td>-0.322448</td>\n",
       "      <td>...</td>\n",
       "      <td>-0.193099</td>\n",
       "      <td>-0.708348</td>\n",
       "      <td>0.145672</td>\n",
       "      <td>0.944217</td>\n",
       "      <td>-0.788017</td>\n",
       "      <td>0.039995</td>\n",
       "      <td>0.010804</td>\n",
       "      <td>0.254309</td>\n",
       "      <td>4.49</td>\n",
       "      <td>0</td>\n",
       "    </tr>\n",
       "    <tr>\n",
       "      <th>4</th>\n",
       "      <td>129350.0</td>\n",
       "      <td>-0.640421</td>\n",
       "      <td>0.212171</td>\n",
       "      <td>0.283341</td>\n",
       "      <td>-1.786916</td>\n",
       "      <td>2.616127</td>\n",
       "      <td>4.024863</td>\n",
       "      <td>-0.198897</td>\n",
       "      <td>0.937087</td>\n",
       "      <td>0.474428</td>\n",
       "      <td>...</td>\n",
       "      <td>0.167939</td>\n",
       "      <td>0.759218</td>\n",
       "      <td>-0.321412</td>\n",
       "      <td>0.767971</td>\n",
       "      <td>-0.084221</td>\n",
       "      <td>0.612936</td>\n",
       "      <td>0.074029</td>\n",
       "      <td>-0.033344</td>\n",
       "      <td>4.49</td>\n",
       "      <td>0</td>\n",
       "    </tr>\n",
       "  </tbody>\n",
       "</table>\n",
       "<p>5 rows × 31 columns</p>\n",
       "</div>"
      ],
      "text/plain": [
       "       time        v1        v2        v3        v4        v5        v6  \\\n",
       "0  154640.0 -0.012102  0.707332  0.163334 -0.756498  0.590999 -0.653429   \n",
       "1  139525.0  1.776151 -0.184642 -2.204096  1.191668  0.614461 -1.016525   \n",
       "2   69778.0 -1.083391 -4.440527 -1.399530  0.469764 -2.076458 -0.766137   \n",
       "3   48473.0 -0.518847  1.025087 -0.614624 -0.780959  2.474666  3.335055   \n",
       "4  129350.0 -0.640421  0.212171  0.283341 -1.786916  2.616127  4.024863   \n",
       "\n",
       "         v7        v8        v9  ...       v21       v22       v23       v24  \\\n",
       "0  0.844608 -0.001672 -0.184399  ... -0.231385 -0.572415  0.042660 -0.360882   \n",
       "1  0.919254 -0.387465 -0.318277  ...  0.281190  0.530070 -0.232262 -0.342096   \n",
       "2  1.601441 -0.709176 -1.288745  ...  0.346463 -1.432833 -1.097063  0.505926   \n",
       "3  0.046111  0.794249 -0.322448  ... -0.193099 -0.708348  0.145672  0.944217   \n",
       "4 -0.198897  0.937087  0.474428  ...  0.167939  0.759218 -0.321412  0.767971   \n",
       "\n",
       "        v25       v26       v27       v28   amount  class  \n",
       "0 -0.494703  0.142657  0.235922  0.083758     7.13      0  \n",
       "1  0.492355 -0.427682 -0.075228 -0.056755   150.00      0  \n",
       "2 -0.140185  0.870190 -0.316982  0.227833  1302.49      0  \n",
       "3 -0.788017  0.039995  0.010804  0.254309     4.49      0  \n",
       "4 -0.084221  0.612936  0.074029 -0.033344     4.49      0  \n",
       "\n",
       "[5 rows x 31 columns]"
      ]
     },
     "execution_count": 87,
     "metadata": {},
     "output_type": "execute_result"
    }
   ],
   "source": [
    "train = train.reset_index(drop=True)\n",
    "train.head()"
   ]
  },
  {
   "cell_type": "code",
   "execution_count": 88,
   "id": "ba925b36",
   "metadata": {},
   "outputs": [
    {
     "data": {
      "text/html": [
       "<div>\n",
       "<style scoped>\n",
       "    .dataframe tbody tr th:only-of-type {\n",
       "        vertical-align: middle;\n",
       "    }\n",
       "\n",
       "    .dataframe tbody tr th {\n",
       "        vertical-align: top;\n",
       "    }\n",
       "\n",
       "    .dataframe thead th {\n",
       "        text-align: right;\n",
       "    }\n",
       "</style>\n",
       "<table border=\"1\" class=\"dataframe\">\n",
       "  <thead>\n",
       "    <tr style=\"text-align: right;\">\n",
       "      <th></th>\n",
       "      <th>time</th>\n",
       "      <th>v1</th>\n",
       "      <th>v2</th>\n",
       "      <th>v3</th>\n",
       "      <th>v4</th>\n",
       "      <th>v5</th>\n",
       "      <th>v6</th>\n",
       "      <th>v7</th>\n",
       "      <th>v8</th>\n",
       "      <th>v9</th>\n",
       "      <th>...</th>\n",
       "      <th>v21</th>\n",
       "      <th>v22</th>\n",
       "      <th>v23</th>\n",
       "      <th>v24</th>\n",
       "      <th>v25</th>\n",
       "      <th>v26</th>\n",
       "      <th>v27</th>\n",
       "      <th>v28</th>\n",
       "      <th>amount</th>\n",
       "      <th>class</th>\n",
       "    </tr>\n",
       "  </thead>\n",
       "  <tbody>\n",
       "    <tr>\n",
       "      <th>0</th>\n",
       "      <td>0.820038</td>\n",
       "      <td>-0.013258</td>\n",
       "      <td>0.457338</td>\n",
       "      <td>-0.008888</td>\n",
       "      <td>-0.462488</td>\n",
       "      <td>0.495620</td>\n",
       "      <td>-0.325006</td>\n",
       "      <td>0.714944</td>\n",
       "      <td>-0.045992</td>\n",
       "      <td>-0.108169</td>\n",
       "      <td>...</td>\n",
       "      <td>-0.487382</td>\n",
       "      <td>-0.540678</td>\n",
       "      <td>0.171804</td>\n",
       "      <td>-0.506273</td>\n",
       "      <td>-0.765995</td>\n",
       "      <td>0.342963</td>\n",
       "      <td>1.449661</td>\n",
       "      <td>0.552631</td>\n",
       "      <td>-0.207017</td>\n",
       "      <td>0</td>\n",
       "    </tr>\n",
       "    <tr>\n",
       "      <th>1</th>\n",
       "      <td>0.642447</td>\n",
       "      <td>0.786899</td>\n",
       "      <td>-0.177339</td>\n",
       "      <td>-1.243910</td>\n",
       "      <td>0.762207</td>\n",
       "      <td>0.513624</td>\n",
       "      <td>-0.635958</td>\n",
       "      <td>0.781312</td>\n",
       "      <td>-0.766521</td>\n",
       "      <td>-0.216077</td>\n",
       "      <td>...</td>\n",
       "      <td>0.747736</td>\n",
       "      <td>0.488919</td>\n",
       "      <td>-0.715134</td>\n",
       "      <td>-0.482616</td>\n",
       "      <td>0.713481</td>\n",
       "      <td>-0.661569</td>\n",
       "      <td>-0.473392</td>\n",
       "      <td>-0.518549</td>\n",
       "      <td>1.781985</td>\n",
       "      <td>0</td>\n",
       "    </tr>\n",
       "    <tr>\n",
       "      <th>2</th>\n",
       "      <td>-0.177033</td>\n",
       "      <td>-0.492609</td>\n",
       "      <td>-3.205580</td>\n",
       "      <td>-0.824190</td>\n",
       "      <td>0.308390</td>\n",
       "      <td>-1.551221</td>\n",
       "      <td>-0.421529</td>\n",
       "      <td>1.387841</td>\n",
       "      <td>-1.367367</td>\n",
       "      <td>-0.998296</td>\n",
       "      <td>...</td>\n",
       "      <td>0.905019</td>\n",
       "      <td>-1.344212</td>\n",
       "      <td>-3.505107</td>\n",
       "      <td>0.585339</td>\n",
       "      <td>-0.234616</td>\n",
       "      <td>1.624359</td>\n",
       "      <td>-1.967544</td>\n",
       "      <td>1.650955</td>\n",
       "      <td>17.826674</td>\n",
       "      <td>0</td>\n",
       "    </tr>\n",
       "    <tr>\n",
       "      <th>3</th>\n",
       "      <td>-0.427352</td>\n",
       "      <td>-0.240002</td>\n",
       "      <td>0.683433</td>\n",
       "      <td>-0.414727</td>\n",
       "      <td>-0.477866</td>\n",
       "      <td>1.941030</td>\n",
       "      <td>3.090688</td>\n",
       "      <td>0.005005</td>\n",
       "      <td>1.440514</td>\n",
       "      <td>-0.219439</td>\n",
       "      <td>...</td>\n",
       "      <td>-0.395127</td>\n",
       "      <td>-0.667624</td>\n",
       "      <td>0.504138</td>\n",
       "      <td>1.137301</td>\n",
       "      <td>-1.205636</td>\n",
       "      <td>0.162145</td>\n",
       "      <td>0.058323</td>\n",
       "      <td>1.852793</td>\n",
       "      <td>-0.243770</td>\n",
       "      <td>0</td>\n",
       "    </tr>\n",
       "    <tr>\n",
       "      <th>4</th>\n",
       "      <td>0.522898</td>\n",
       "      <td>-0.294401</td>\n",
       "      <td>0.105010</td>\n",
       "      <td>0.053717</td>\n",
       "      <td>-1.110251</td>\n",
       "      <td>2.049579</td>\n",
       "      <td>3.681433</td>\n",
       "      <td>-0.212831</td>\n",
       "      <td>1.707288</td>\n",
       "      <td>0.422861</td>\n",
       "      <td>...</td>\n",
       "      <td>0.474843</td>\n",
       "      <td>0.702918</td>\n",
       "      <td>-1.002743</td>\n",
       "      <td>0.915346</td>\n",
       "      <td>-0.150734</td>\n",
       "      <td>1.171259</td>\n",
       "      <td>0.449082</td>\n",
       "      <td>-0.340076</td>\n",
       "      <td>-0.243770</td>\n",
       "      <td>0</td>\n",
       "    </tr>\n",
       "  </tbody>\n",
       "</table>\n",
       "<p>5 rows × 31 columns</p>\n",
       "</div>"
      ],
      "text/plain": [
       "       time        v1        v2        v3        v4        v5        v6  \\\n",
       "0  0.820038 -0.013258  0.457338 -0.008888 -0.462488  0.495620 -0.325006   \n",
       "1  0.642447  0.786899 -0.177339 -1.243910  0.762207  0.513624 -0.635958   \n",
       "2 -0.177033 -0.492609 -3.205580 -0.824190  0.308390 -1.551221 -0.421529   \n",
       "3 -0.427352 -0.240002  0.683433 -0.414727 -0.477866  1.941030  3.090688   \n",
       "4  0.522898 -0.294401  0.105010  0.053717 -1.110251  2.049579  3.681433   \n",
       "\n",
       "         v7        v8        v9  ...       v21       v22       v23       v24  \\\n",
       "0  0.714944 -0.045992 -0.108169  ... -0.487382 -0.540678  0.171804 -0.506273   \n",
       "1  0.781312 -0.766521 -0.216077  ...  0.747736  0.488919 -0.715134 -0.482616   \n",
       "2  1.387841 -1.367367 -0.998296  ...  0.905019 -1.344212 -3.505107  0.585339   \n",
       "3  0.005005  1.440514 -0.219439  ... -0.395127 -0.667624  0.504138  1.137301   \n",
       "4 -0.212831  1.707288  0.422861  ...  0.474843  0.702918 -1.002743  0.915346   \n",
       "\n",
       "        v25       v26       v27       v28     amount  class  \n",
       "0 -0.765995  0.342963  1.449661  0.552631  -0.207017      0  \n",
       "1  0.713481 -0.661569 -0.473392 -0.518549   1.781985      0  \n",
       "2 -0.234616  1.624359 -1.967544  1.650955  17.826674      0  \n",
       "3 -1.205636  0.162145  0.058323  1.852793  -0.243770      0  \n",
       "4 -0.150734  1.171259  0.449082 -0.340076  -0.243770      0  \n",
       "\n",
       "[5 rows x 31 columns]"
      ]
     },
     "execution_count": 88,
     "metadata": {},
     "output_type": "execute_result"
    }
   ],
   "source": [
    "train.update(x)\n",
    "train.head()"
   ]
  },
  {
   "cell_type": "code",
   "execution_count": 89,
   "id": "b6c49839",
   "metadata": {},
   "outputs": [
    {
     "name": "stdout",
     "output_type": "stream",
     "text": [
      "[pca] >Processing dataframe..\n",
      "[pca] >Normalizing input data per feature (zero mean and unit variance)..\n",
      "[pca] >The PCA reduction is performed to capture [95.0%] explained variance using the [30] columns of the input data.\n",
      "[pca] >Fit using PCA.\n",
      "[pca] >Compute loadings and PCs.\n",
      "[pca] >Compute explained variance.\n",
      "[pca] >Number of components is [27] that covers the [95.00%] explained variance.\n",
      "[pca] >The PCA reduction is performed on the [30] columns of the input dataframe.\n",
      "[pca] >Fit using PCA.\n",
      "[pca] >Compute loadings and PCs.\n",
      "[pca] >Outlier detection using Hotelling T2 test with alpha=[0.05] and n_components=[27]\n",
      "[pca] >Outlier detection using SPE/DmodX with n_std=[2]\n"
     ]
    },
    {
     "data": {
      "image/png": "[encoded data removed]",
      "text/plain": [
       "<Figure size 1080x720 with 1 Axes>"
      ]
     },
     "metadata": {
      "needs_background": "light"
     },
     "output_type": "display_data"
    },
    {
     "data": {
      "text/plain": [
       "(<Figure size 1080x720 with 1 Axes>,\n",
       " <AxesSubplot:title={'center':'Cumulative explained variance\\n 27 Principal Components explain [98.80%] of the variance.'}, xlabel='Principle Component', ylabel='Percentage explained variance'>)"
      ]
     },
     "execution_count": 89,
     "metadata": {},
     "output_type": "execute_result"
    },
    {
     "data": {
      "text/plain": [
       "<Figure size 432x288 with 0 Axes>"
      ]
     },
     "metadata": {},
     "output_type": "display_data"
    }
   ],
   "source": [
    "x = train.drop('class', axis=1)\n",
    "# Reduce the data up to the number of components that explains 95% of the variance.\n",
    "model = pca(normalize=True)\n",
    "out = model.fit_transform(x)\n",
    "\n",
    "model.plot()"
   ]
  },
  {
   "cell_type": "code",
   "execution_count": 90,
   "id": "d7d609d2",
   "metadata": {},
   "outputs": [
    {
     "data": {
      "text/plain": [
       "array(['amount', 'time', 'v20', 'v1', 'v12', 'v8', 'v26', 'v8', 'v8',\n",
       "       'v18', 'v21', 'v13', 'v25', 'v9', 'v17', 'v15', 'v12', 'v14',\n",
       "       'v19', 'v17', 'v16', 'v4', 'v1', 'v6', 'v5', 'v8', 'v10'],\n",
       "      dtype=object)"
      ]
     },
     "execution_count": 90,
     "metadata": {},
     "output_type": "execute_result"
    }
   ],
   "source": [
    "# Best 27 features according to pca\n",
    "pca_df = pd.DataFrame(out['topfeat'])\n",
    "after_scale = pca_df[pca_df['type']=='best'].feature.values\n",
    "after_scale"
   ]
  },
  {
   "cell_type": "code",
   "execution_count": 91,
   "id": "4f52f473",
   "metadata": {},
   "outputs": [
    {
     "data": {
      "text/plain": [
       "set()"
      ]
     },
     "execution_count": 91,
     "metadata": {},
     "output_type": "execute_result"
    }
   ],
   "source": [
    "set(after_scale)-set(before_scale)"
   ]
  },
  {
   "cell_type": "code",
   "execution_count": 92,
   "id": "631ae5ad",
   "metadata": {},
   "outputs": [
    {
     "data": {
      "text/plain": [
       "(27, 21)"
      ]
     },
     "execution_count": 92,
     "metadata": {},
     "output_type": "execute_result"
    }
   ],
   "source": [
    "len(after_scale), len(set(after_scale))"
   ]
  },
  {
   "cell_type": "code",
   "execution_count": 93,
   "id": "393c1d52",
   "metadata": {},
   "outputs": [
    {
     "name": "stderr",
     "output_type": "stream",
     "text": [
      "/tmp/ipykernel_10079/1823580294.py:1: FutureWarning: Passing a set as an indexer is deprecated and will raise in a future version. Use a list instead.\n",
      "  final_train = pd.concat([train[set(after_scale)], train['class']], axis=1)\n"
     ]
    },
    {
     "data": {
      "text/html": [
       "<div>\n",
       "<style scoped>\n",
       "    .dataframe tbody tr th:only-of-type {\n",
       "        vertical-align: middle;\n",
       "    }\n",
       "\n",
       "    .dataframe tbody tr th {\n",
       "        vertical-align: top;\n",
       "    }\n",
       "\n",
       "    .dataframe thead th {\n",
       "        text-align: right;\n",
       "    }\n",
       "</style>\n",
       "<table border=\"1\" class=\"dataframe\">\n",
       "  <thead>\n",
       "    <tr style=\"text-align: right;\">\n",
       "      <th></th>\n",
       "      <th>v4</th>\n",
       "      <th>v10</th>\n",
       "      <th>v9</th>\n",
       "      <th>v1</th>\n",
       "      <th>v17</th>\n",
       "      <th>v21</th>\n",
       "      <th>v12</th>\n",
       "      <th>v13</th>\n",
       "      <th>v19</th>\n",
       "      <th>v5</th>\n",
       "      <th>...</th>\n",
       "      <th>v20</th>\n",
       "      <th>v18</th>\n",
       "      <th>v14</th>\n",
       "      <th>v16</th>\n",
       "      <th>v26</th>\n",
       "      <th>v25</th>\n",
       "      <th>time</th>\n",
       "      <th>v6</th>\n",
       "      <th>v15</th>\n",
       "      <th>class</th>\n",
       "    </tr>\n",
       "  </thead>\n",
       "  <tbody>\n",
       "    <tr>\n",
       "      <th>0</th>\n",
       "      <td>-0.462488</td>\n",
       "      <td>-0.130846</td>\n",
       "      <td>-0.108169</td>\n",
       "      <td>-0.013258</td>\n",
       "      <td>-0.761978</td>\n",
       "      <td>-0.487382</td>\n",
       "      <td>0.239838</td>\n",
       "      <td>-0.485224</td>\n",
       "      <td>0.356048</td>\n",
       "      <td>0.495620</td>\n",
       "      <td>...</td>\n",
       "      <td>0.070669</td>\n",
       "      <td>-0.064721</td>\n",
       "      <td>0.402126</td>\n",
       "      <td>0.162966</td>\n",
       "      <td>0.342963</td>\n",
       "      <td>-0.765995</td>\n",
       "      <td>0.820038</td>\n",
       "      <td>-0.325006</td>\n",
       "      <td>-0.858495</td>\n",
       "      <td>0</td>\n",
       "    </tr>\n",
       "    <tr>\n",
       "      <th>1</th>\n",
       "      <td>0.762207</td>\n",
       "      <td>0.616009</td>\n",
       "      <td>-0.216077</td>\n",
       "      <td>0.786899</td>\n",
       "      <td>-0.741636</td>\n",
       "      <td>0.747736</td>\n",
       "      <td>0.104804</td>\n",
       "      <td>-0.794783</td>\n",
       "      <td>-0.022517</td>\n",
       "      <td>0.513624</td>\n",
       "      <td>...</td>\n",
       "      <td>0.093557</td>\n",
       "      <td>0.332405</td>\n",
       "      <td>1.300607</td>\n",
       "      <td>-0.203207</td>\n",
       "      <td>-0.661569</td>\n",
       "      <td>0.713481</td>\n",
       "      <td>0.642447</td>\n",
       "      <td>-0.635958</td>\n",
       "      <td>-0.391275</td>\n",
       "      <td>0</td>\n",
       "    </tr>\n",
       "    <tr>\n",
       "      <th>2</th>\n",
       "      <td>0.308390</td>\n",
       "      <td>0.181264</td>\n",
       "      <td>-0.998296</td>\n",
       "      <td>-0.492609</td>\n",
       "      <td>0.141255</td>\n",
       "      <td>0.905019</td>\n",
       "      <td>0.049477</td>\n",
       "      <td>0.810282</td>\n",
       "      <td>-1.194471</td>\n",
       "      <td>-1.551221</td>\n",
       "      <td>...</td>\n",
       "      <td>6.531339</td>\n",
       "      <td>0.920547</td>\n",
       "      <td>0.405214</td>\n",
       "      <td>-1.394877</td>\n",
       "      <td>1.624359</td>\n",
       "      <td>-0.234616</td>\n",
       "      <td>-0.177033</td>\n",
       "      <td>-0.421529</td>\n",
       "      <td>0.613149</td>\n",
       "      <td>0</td>\n",
       "    </tr>\n",
       "    <tr>\n",
       "      <th>3</th>\n",
       "      <td>-0.477866</td>\n",
       "      <td>0.223632</td>\n",
       "      <td>-0.219439</td>\n",
       "      <td>-0.240002</td>\n",
       "      <td>-0.265325</td>\n",
       "      <td>-0.395127</td>\n",
       "      <td>-0.471395</td>\n",
       "      <td>0.014405</td>\n",
       "      <td>1.012764</td>\n",
       "      <td>1.941030</td>\n",
       "      <td>...</td>\n",
       "      <td>0.837177</td>\n",
       "      <td>0.407887</td>\n",
       "      <td>-0.366213</td>\n",
       "      <td>0.337714</td>\n",
       "      <td>0.162145</td>\n",
       "      <td>-1.205636</td>\n",
       "      <td>-0.427352</td>\n",
       "      <td>3.090688</td>\n",
       "      <td>1.083901</td>\n",
       "      <td>0</td>\n",
       "    </tr>\n",
       "    <tr>\n",
       "      <th>4</th>\n",
       "      <td>-1.110251</td>\n",
       "      <td>-0.192413</td>\n",
       "      <td>0.422861</td>\n",
       "      <td>-0.294401</td>\n",
       "      <td>-0.729785</td>\n",
       "      <td>0.474843</td>\n",
       "      <td>-0.313537</td>\n",
       "      <td>-0.183276</td>\n",
       "      <td>-0.505947</td>\n",
       "      <td>2.049579</td>\n",
       "      <td>...</td>\n",
       "      <td>0.629375</td>\n",
       "      <td>0.010921</td>\n",
       "      <td>-0.476655</td>\n",
       "      <td>-0.016659</td>\n",
       "      <td>1.171259</td>\n",
       "      <td>-0.150734</td>\n",
       "      <td>0.522898</td>\n",
       "      <td>3.681433</td>\n",
       "      <td>0.296012</td>\n",
       "      <td>0</td>\n",
       "    </tr>\n",
       "    <tr>\n",
       "      <th>...</th>\n",
       "      <td>...</td>\n",
       "      <td>...</td>\n",
       "      <td>...</td>\n",
       "      <td>...</td>\n",
       "      <td>...</td>\n",
       "      <td>...</td>\n",
       "      <td>...</td>\n",
       "      <td>...</td>\n",
       "      <td>...</td>\n",
       "      <td>...</td>\n",
       "      <td>...</td>\n",
       "      <td>...</td>\n",
       "      <td>...</td>\n",
       "      <td>...</td>\n",
       "      <td>...</td>\n",
       "      <td>...</td>\n",
       "      <td>...</td>\n",
       "      <td>...</td>\n",
       "      <td>...</td>\n",
       "      <td>...</td>\n",
       "      <td>...</td>\n",
       "    </tr>\n",
       "    <tr>\n",
       "      <th>199359</th>\n",
       "      <td>-1.312233</td>\n",
       "      <td>-0.915478</td>\n",
       "      <td>0.414032</td>\n",
       "      <td>-0.193545</td>\n",
       "      <td>-0.812259</td>\n",
       "      <td>0.390377</td>\n",
       "      <td>1.151941</td>\n",
       "      <td>0.240214</td>\n",
       "      <td>0.112345</td>\n",
       "      <td>0.185668</td>\n",
       "      <td>...</td>\n",
       "      <td>0.400450</td>\n",
       "      <td>0.397243</td>\n",
       "      <td>0.122938</td>\n",
       "      <td>-0.543974</td>\n",
       "      <td>-1.443594</td>\n",
       "      <td>0.031506</td>\n",
       "      <td>-0.962370</td>\n",
       "      <td>-0.862979</td>\n",
       "      <td>0.039756</td>\n",
       "      <td>0</td>\n",
       "    </tr>\n",
       "    <tr>\n",
       "      <th>199360</th>\n",
       "      <td>0.094703</td>\n",
       "      <td>0.308678</td>\n",
       "      <td>0.843178</td>\n",
       "      <td>0.884315</td>\n",
       "      <td>-0.951575</td>\n",
       "      <td>0.702763</td>\n",
       "      <td>0.433513</td>\n",
       "      <td>-0.180866</td>\n",
       "      <td>0.043393</td>\n",
       "      <td>-0.176665</td>\n",
       "      <td>...</td>\n",
       "      <td>-0.322965</td>\n",
       "      <td>0.744236</td>\n",
       "      <td>0.014504</td>\n",
       "      <td>0.625964</td>\n",
       "      <td>1.190038</td>\n",
       "      <td>-0.317383</td>\n",
       "      <td>0.738616</td>\n",
       "      <td>0.572895</td>\n",
       "      <td>-0.028799</td>\n",
       "      <td>0</td>\n",
       "    </tr>\n",
       "    <tr>\n",
       "      <th>199361</th>\n",
       "      <td>-0.002190</td>\n",
       "      <td>0.203699</td>\n",
       "      <td>0.405384</td>\n",
       "      <td>-0.678096</td>\n",
       "      <td>1.478593</td>\n",
       "      <td>-0.104412</td>\n",
       "      <td>0.227519</td>\n",
       "      <td>-0.396080</td>\n",
       "      <td>-1.363329</td>\n",
       "      <td>0.490785</td>\n",
       "      <td>...</td>\n",
       "      <td>-0.470962</td>\n",
       "      <td>-2.623557</td>\n",
       "      <td>-0.491205</td>\n",
       "      <td>-1.963923</td>\n",
       "      <td>0.556626</td>\n",
       "      <td>-0.662842</td>\n",
       "      <td>-0.282941</td>\n",
       "      <td>1.350485</td>\n",
       "      <td>0.586048</td>\n",
       "      <td>0</td>\n",
       "    </tr>\n",
       "    <tr>\n",
       "      <th>199362</th>\n",
       "      <td>0.959380</td>\n",
       "      <td>-0.038804</td>\n",
       "      <td>0.298134</td>\n",
       "      <td>0.470830</td>\n",
       "      <td>0.531921</td>\n",
       "      <td>-0.079205</td>\n",
       "      <td>0.297881</td>\n",
       "      <td>-0.406890</td>\n",
       "      <td>-0.552213</td>\n",
       "      <td>-0.249677</td>\n",
       "      <td>...</td>\n",
       "      <td>-0.251476</td>\n",
       "      <td>-1.030974</td>\n",
       "      <td>0.128288</td>\n",
       "      <td>-0.870089</td>\n",
       "      <td>-0.498611</td>\n",
       "      <td>0.864807</td>\n",
       "      <td>-0.582115</td>\n",
       "      <td>-0.082489</td>\n",
       "      <td>-0.099959</td>\n",
       "      <td>0</td>\n",
       "    </tr>\n",
       "    <tr>\n",
       "      <th>199363</th>\n",
       "      <td>0.209835</td>\n",
       "      <td>-0.423225</td>\n",
       "      <td>0.026360</td>\n",
       "      <td>-0.275473</td>\n",
       "      <td>0.658926</td>\n",
       "      <td>0.216232</td>\n",
       "      <td>0.749285</td>\n",
       "      <td>0.500419</td>\n",
       "      <td>-0.265237</td>\n",
       "      <td>-0.031671</td>\n",
       "      <td>...</td>\n",
       "      <td>0.478415</td>\n",
       "      <td>-1.111397</td>\n",
       "      <td>-0.511582</td>\n",
       "      <td>-1.070305</td>\n",
       "      <td>0.719844</td>\n",
       "      <td>-0.393009</td>\n",
       "      <td>-0.657945</td>\n",
       "      <td>-0.100652</td>\n",
       "      <td>-0.478972</td>\n",
       "      <td>0</td>\n",
       "    </tr>\n",
       "  </tbody>\n",
       "</table>\n",
       "<p>199364 rows × 22 columns</p>\n",
       "</div>"
      ],
      "text/plain": [
       "              v4       v10        v9        v1       v17       v21       v12  \\\n",
       "0      -0.462488 -0.130846 -0.108169 -0.013258 -0.761978 -0.487382  0.239838   \n",
       "1       0.762207  0.616009 -0.216077  0.786899 -0.741636  0.747736  0.104804   \n",
       "2       0.308390  0.181264 -0.998296 -0.492609  0.141255  0.905019  0.049477   \n",
       "3      -0.477866  0.223632 -0.219439 -0.240002 -0.265325 -0.395127 -0.471395   \n",
       "4      -1.110251 -0.192413  0.422861 -0.294401 -0.729785  0.474843 -0.313537   \n",
       "...          ...       ...       ...       ...       ...       ...       ...   \n",
       "199359 -1.312233 -0.915478  0.414032 -0.193545 -0.812259  0.390377  1.151941   \n",
       "199360  0.094703  0.308678  0.843178  0.884315 -0.951575  0.702763  0.433513   \n",
       "199361 -0.002190  0.203699  0.405384 -0.678096  1.478593 -0.104412  0.227519   \n",
       "199362  0.959380 -0.038804  0.298134  0.470830  0.531921 -0.079205  0.297881   \n",
       "199363  0.209835 -0.423225  0.026360 -0.275473  0.658926  0.216232  0.749285   \n",
       "\n",
       "             v13       v19        v5  ...       v20       v18       v14  \\\n",
       "0      -0.485224  0.356048  0.495620  ...  0.070669 -0.064721  0.402126   \n",
       "1      -0.794783 -0.022517  0.513624  ...  0.093557  0.332405  1.300607   \n",
       "2       0.810282 -1.194471 -1.551221  ...  6.531339  0.920547  0.405214   \n",
       "3       0.014405  1.012764  1.941030  ...  0.837177  0.407887 -0.366213   \n",
       "4      -0.183276 -0.505947  2.049579  ...  0.629375  0.010921 -0.476655   \n",
       "...          ...       ...       ...  ...       ...       ...       ...   \n",
       "199359  0.240214  0.112345  0.185668  ...  0.400450  0.397243  0.122938   \n",
       "199360 -0.180866  0.043393 -0.176665  ... -0.322965  0.744236  0.014504   \n",
       "199361 -0.396080 -1.363329  0.490785  ... -0.470962 -2.623557 -0.491205   \n",
       "199362 -0.406890 -0.552213 -0.249677  ... -0.251476 -1.030974  0.128288   \n",
       "199363  0.500419 -0.265237 -0.031671  ...  0.478415 -1.111397 -0.511582   \n",
       "\n",
       "             v16       v26       v25      time        v6       v15  class  \n",
       "0       0.162966  0.342963 -0.765995  0.820038 -0.325006 -0.858495      0  \n",
       "1      -0.203207 -0.661569  0.713481  0.642447 -0.635958 -0.391275      0  \n",
       "2      -1.394877  1.624359 -0.234616 -0.177033 -0.421529  0.613149      0  \n",
       "3       0.337714  0.162145 -1.205636 -0.427352  3.090688  1.083901      0  \n",
       "4      -0.016659  1.171259 -0.150734  0.522898  3.681433  0.296012      0  \n",
       "...          ...       ...       ...       ...       ...       ...    ...  \n",
       "199359 -0.543974 -1.443594  0.031506 -0.962370 -0.862979  0.039756      0  \n",
       "199360  0.625964  1.190038 -0.317383  0.738616  0.572895 -0.028799      0  \n",
       "199361 -1.963923  0.556626 -0.662842 -0.282941  1.350485  0.586048      0  \n",
       "199362 -0.870089 -0.498611  0.864807 -0.582115 -0.082489 -0.099959      0  \n",
       "199363 -1.070305  0.719844 -0.393009 -0.657945 -0.100652 -0.478972      0  \n",
       "\n",
       "[199364 rows x 22 columns]"
      ]
     },
     "execution_count": 93,
     "metadata": {},
     "output_type": "execute_result"
    }
   ],
   "source": [
    "final_train = pd.concat([train[set(after_scale)], train['class']], axis=1)\n",
    "final_train"
   ]
  },
  {
   "cell_type": "code",
   "execution_count": 94,
   "id": "6706df51",
   "metadata": {},
   "outputs": [
    {
     "data": {
      "text/plain": [
       "((149523, 21), (49841, 21))"
      ]
     },
     "execution_count": 94,
     "metadata": {},
     "output_type": "execute_result"
    }
   ],
   "source": [
    "x = final_train.drop('class', axis=1)\n",
    "y = final_train['class']\n",
    "\n",
    "x_train, x_valid, y_train, y_valid = train_test_split(x, y, random_state=42, test_size=0.25)\n",
    "x_train.shape, x_valid.shape"
   ]
  },
  {
   "cell_type": "code",
   "execution_count": 95,
   "id": "ca43f5b8",
   "metadata": {},
   "outputs": [
    {
     "data": {
      "text/plain": [
       "array([[ 0.62094537,  0.47890396, -0.21470112, ...,  0.35754968,\n",
       "         0.15110839,  1.06921462],\n",
       "       [-0.68179507,  1.52089296, -1.4993604 , ..., -0.31883564,\n",
       "         0.0791429 , -0.56861855],\n",
       "       [-1.30296011,  1.08511843, -0.63171559, ...,  0.8433139 ,\n",
       "        -0.39435746, -0.08931309],\n",
       "       ...,\n",
       "       [-0.43326149,  0.00573635, -0.00400598, ...,  0.64687688,\n",
       "         0.06952997, -0.01750826],\n",
       "       [-1.91578881, -0.47838918,  0.82091822, ..., -0.56273994,\n",
       "        -1.45496053,  0.23852175],\n",
       "       [-0.51427334,  0.88283174, -0.2425738 , ..., -0.55640706,\n",
       "         0.41822003,  0.69177461]])"
      ]
     },
     "execution_count": 95,
     "metadata": {},
     "output_type": "execute_result"
    }
   ],
   "source": [
    "x_train.values"
   ]
  },
  {
   "cell_type": "code",
   "execution_count": 96,
   "id": "6b126b29",
   "metadata": {},
   "outputs": [],
   "source": [
    "sm = SMOTE(random_state=42)\n",
    "x_train_res , y_train_res = sm.fit_resample(x_train.values, y_train.ravel())"
   ]
  },
  {
   "cell_type": "markdown",
   "id": "45f902f7",
   "metadata": {},
   "source": [
    "ravel() in Python. The numpy module of Python provides a function called numpy. ravel, which is used to change a 2-dimensional array or a multi-dimensional array into a contiguous flattened array. The returned array has the same data type as the source array or input array."
   ]
  },
  {
   "cell_type": "code",
   "execution_count": 97,
   "id": "d34a1c74",
   "metadata": {},
   "outputs": [
    {
     "data": {
      "text/plain": [
       "array([0, 0, 0, ..., 0, 0, 0])"
      ]
     },
     "execution_count": 97,
     "metadata": {},
     "output_type": "execute_result"
    }
   ],
   "source": [
    "y_train.ravel()"
   ]
  },
  {
   "cell_type": "code",
   "execution_count": 98,
   "id": "f4bf7cf3",
   "metadata": {},
   "outputs": [
    {
     "name": "stdout",
     "output_type": "stream",
     "text": [
      "(298510, 21)\n"
     ]
    },
    {
     "name": "stderr",
     "output_type": "stream",
     "text": [
      "/home/gsunilmadhusudanreddy/anaconda3/lib/python3.9/site-packages/seaborn/_decorators.py:36: FutureWarning: Pass the following variable as a keyword arg: x. From version 0.12, the only valid positional argument will be `data`, and passing other arguments without an explicit keyword will result in an error or misinterpretation.\n",
      "  warnings.warn(\n"
     ]
    },
    {
     "data": {
      "text/plain": [
       "<AxesSubplot:ylabel='count'>"
      ]
     },
     "execution_count": 98,
     "metadata": {},
     "output_type": "execute_result"
    },
    {
     "data": {
      "image/png": "[encoded data removed]",
      "text/plain": [
       "<Figure size 432x288 with 1 Axes>"
      ]
     },
     "metadata": {
      "needs_background": "light"
     },
     "output_type": "display_data"
    }
   ],
   "source": [
    "print(x_train_res.shape)\n",
    "\n",
    "sns.countplot(y_train_res)"
   ]
  },
  {
   "cell_type": "code",
   "execution_count": null,
   "id": "3e9de87e",
   "metadata": {},
   "outputs": [],
   "source": []
  },
  {
   "cell_type": "code",
   "execution_count": 99,
   "id": "9a4429a1",
   "metadata": {},
   "outputs": [
    {
     "name": "stderr",
     "output_type": "stream",
     "text": [
      "/home/gsunilmadhusudanreddy/anaconda3/lib/python3.9/site-packages/sklearn/base.py:443: UserWarning: X has feature names, but LogisticRegression was fitted without feature names\n",
      "  warnings.warn(\n",
      "/home/gsunilmadhusudanreddy/anaconda3/lib/python3.9/site-packages/sklearn/base.py:443: UserWarning: X has feature names, but LogisticRegression was fitted without feature names\n",
      "  warnings.warn(\n"
     ]
    },
    {
     "name": "stdout",
     "output_type": "stream",
     "text": [
      "Training Score : 0.9573515125121437\n",
      "Validation Score : 0.9753817138500431\n",
      "              precision    recall  f1-score   support\n",
      "\n",
      "           0       1.00      0.98      0.99     49765\n",
      "           1       0.05      0.91      0.10        76\n",
      "\n",
      "    accuracy                           0.98     49841\n",
      "   macro avg       0.53      0.94      0.54     49841\n",
      "weighted avg       1.00      0.98      0.99     49841\n",
      "\n",
      "\n"
     ]
    }
   ],
   "source": [
    "log_model = LogisticRegression()\n",
    "log_model.fit(x_train_res, y_train_res)\n",
    "y_pred = log_model.predict(x_valid)\n",
    "    \n",
    "print(f'Training Score : {log_model.score(x_train_res, y_train_res)}')\n",
    "print(f'Validation Score : {log_model.score(x_valid, y_valid)}')\n",
    "    \n",
    "print(classification_report(y_valid, y_pred), end='\\n\\n')"
   ]
  },
  {
   "cell_type": "code",
   "execution_count": 100,
   "id": "f663a968",
   "metadata": {},
   "outputs": [
    {
     "name": "stderr",
     "output_type": "stream",
     "text": [
      "/home/gsunilmadhusudanreddy/anaconda3/lib/python3.9/site-packages/sklearn/base.py:443: UserWarning: X has feature names, but RandomForestClassifier was fitted without feature names\n",
      "  warnings.warn(\n"
     ]
    },
    {
     "name": "stdout",
     "output_type": "stream",
     "text": [
      "Training Score : 1.0\n"
     ]
    },
    {
     "name": "stderr",
     "output_type": "stream",
     "text": [
      "/home/gsunilmadhusudanreddy/anaconda3/lib/python3.9/site-packages/sklearn/base.py:443: UserWarning: X has feature names, but RandomForestClassifier was fitted without feature names\n",
      "  warnings.warn(\n"
     ]
    },
    {
     "name": "stdout",
     "output_type": "stream",
     "text": [
      "Validation Score : 0.9996187877450292\n",
      "              precision    recall  f1-score   support\n",
      "\n",
      "           0       1.00      1.00      1.00     49765\n",
      "           1       0.89      0.86      0.87        76\n",
      "\n",
      "    accuracy                           1.00     49841\n",
      "   macro avg       0.95      0.93      0.94     49841\n",
      "weighted avg       1.00      1.00      1.00     49841\n",
      "\n",
      "\n"
     ]
    }
   ],
   "source": [
    "model = RandomForestClassifier()\n",
    "model.fit(x_train_res, y_train_res)\n",
    "y_pred = model.predict(x_valid)\n",
    " \n",
    "print(f'Training Score : {model.score(x_train_res, y_train_res)}')\n",
    "print(f'Validation Score : {model.score(x_valid, y_valid)}')\n",
    "   \n",
    "print(classification_report(y_valid, y_pred), end='\\n\\n')"
   ]
  },
  {
   "cell_type": "markdown",
   "id": "0411ca3b",
   "metadata": {},
   "source": [
    "plt.figure(figsize=(20,5))\n",
    "sorted_index = model.feature_importances_.argsort()\n",
    "print(f'Sorted Index : {sorted_index}')\n",
    "sns.barplot(x_train.columns[sorted_index], model.feature_importances_[sorted_index], palette=generate_colors(1))\n",
    "plt.title('Feature Importance')"
   ]
  },
  {
   "cell_type": "code",
   "execution_count": 101,
   "id": "ff1fb562",
   "metadata": {},
   "outputs": [
    {
     "name": "stderr",
     "output_type": "stream",
     "text": [
      "/home/gsunilmadhusudanreddy/anaconda3/lib/python3.9/site-packages/sklearn/base.py:443: UserWarning: X has feature names, but DecisionTreeClassifier was fitted without feature names\n",
      "  warnings.warn(\n",
      "/home/gsunilmadhusudanreddy/anaconda3/lib/python3.9/site-packages/sklearn/base.py:443: UserWarning: X has feature names, but DecisionTreeClassifier was fitted without feature names\n",
      "  warnings.warn(\n"
     ]
    },
    {
     "name": "stdout",
     "output_type": "stream",
     "text": [
      "Training Score : 0.9873840072359384\n",
      "Validation Score : 0.9842900423346241\n",
      "              precision    recall  f1-score   support\n",
      "\n",
      "           0       1.00      0.98      0.99     49765\n",
      "           1       0.08      0.86      0.14        76\n",
      "\n",
      "    accuracy                           0.98     49841\n",
      "   macro avg       0.54      0.92      0.57     49841\n",
      "weighted avg       1.00      0.98      0.99     49841\n",
      "\n",
      "\n"
     ]
    },
    {
     "name": "stderr",
     "output_type": "stream",
     "text": [
      "/home/gsunilmadhusudanreddy/anaconda3/lib/python3.9/site-packages/sklearn/base.py:443: UserWarning: X has feature names, but DecisionTreeClassifier was fitted without feature names\n",
      "  warnings.warn(\n",
      "/home/gsunilmadhusudanreddy/anaconda3/lib/python3.9/site-packages/sklearn/base.py:443: UserWarning: X has feature names, but DecisionTreeClassifier was fitted without feature names\n",
      "  warnings.warn(\n"
     ]
    },
    {
     "name": "stdout",
     "output_type": "stream",
     "text": [
      "Training Score : 0.9985394124149944\n",
      "Validation Score : 0.9948436026564476\n",
      "              precision    recall  f1-score   support\n",
      "\n",
      "           0       1.00      1.00      1.00     49765\n",
      "           1       0.21      0.86      0.34        76\n",
      "\n",
      "    accuracy                           0.99     49841\n",
      "   macro avg       0.60      0.93      0.67     49841\n",
      "weighted avg       1.00      0.99      1.00     49841\n",
      "\n",
      "\n",
      "Training Score : 0.9995511038156175\n",
      "Validation Score : 0.9964286430850103\n",
      "              precision    recall  f1-score   support\n",
      "\n",
      "           0       1.00      1.00      1.00     49765\n",
      "           1       0.28      0.86      0.42        76\n",
      "\n",
      "    accuracy                           1.00     49841\n",
      "   macro avg       0.64      0.93      0.71     49841\n",
      "weighted avg       1.00      1.00      1.00     49841\n",
      "\n",
      "\n"
     ]
    },
    {
     "name": "stderr",
     "output_type": "stream",
     "text": [
      "/home/gsunilmadhusudanreddy/anaconda3/lib/python3.9/site-packages/sklearn/base.py:443: UserWarning: X has feature names, but DecisionTreeClassifier was fitted without feature names\n",
      "  warnings.warn(\n",
      "/home/gsunilmadhusudanreddy/anaconda3/lib/python3.9/site-packages/sklearn/base.py:443: UserWarning: X has feature names, but DecisionTreeClassifier was fitted without feature names\n",
      "  warnings.warn(\n"
     ]
    }
   ],
   "source": [
    "for i in [8, 15, 22]:\n",
    "    model = DecisionTreeClassifier(max_depth=i)\n",
    "    model.fit(x_train_res, y_train_res)\n",
    "    y_pred = model.predict(x_valid)\n",
    "    \n",
    "    print(f'Training Score : {model.score(x_train_res, y_train_res)}')\n",
    "    print(f'Validation Score : {model.score(x_valid, y_valid)}')\n",
    "    \n",
    "    print(classification_report(y_valid, y_pred), end='\\n\\n')"
   ]
  },
  {
   "cell_type": "code",
   "execution_count": 102,
   "id": "dda640f0",
   "metadata": {},
   "outputs": [
    {
     "name": "stderr",
     "output_type": "stream",
     "text": [
      "/home/gsunilmadhusudanreddy/anaconda3/lib/python3.9/site-packages/sklearn/base.py:443: UserWarning: X has feature names, but AdaBoostClassifier was fitted without feature names\n",
      "  warnings.warn(\n"
     ]
    },
    {
     "name": "stdout",
     "output_type": "stream",
     "text": [
      "Training Score : 1.0\n"
     ]
    },
    {
     "name": "stderr",
     "output_type": "stream",
     "text": [
      "/home/gsunilmadhusudanreddy/anaconda3/lib/python3.9/site-packages/sklearn/base.py:443: UserWarning: X has feature names, but AdaBoostClassifier was fitted without feature names\n",
      "  warnings.warn(\n"
     ]
    },
    {
     "name": "stdout",
     "output_type": "stream",
     "text": [
      "Validation Score : 0.999598723942136\n",
      "              precision    recall  f1-score   support\n",
      "\n",
      "           0       1.00      1.00      1.00     49765\n",
      "           1       0.87      0.87      0.87        76\n",
      "\n",
      "    accuracy                           1.00     49841\n",
      "   macro avg       0.93      0.93      0.93     49841\n",
      "weighted avg       1.00      1.00      1.00     49841\n",
      "\n",
      "\n"
     ]
    }
   ],
   "source": [
    "model = AdaBoostClassifier(base_estimator=RandomForestClassifier(n_estimators=50), n_estimators=4)\n",
    "model.fit(x_train_res, y_train_res)\n",
    "y_pred = model.predict(x_valid)\n",
    "    \n",
    "print(f'Training Score : {model.score(x_train_res, y_train_res)}')\n",
    "print(f'Validation Score : {model.score(x_valid, y_valid)}')\n",
    "    \n",
    "print(classification_report(y_valid, y_pred), end='\\n\\n')"
   ]
  },
  {
   "cell_type": "code",
   "execution_count": null,
   "id": "dc426793",
   "metadata": {},
   "outputs": [],
   "source": []
  },
  {
   "cell_type": "code",
   "execution_count": 103,
   "id": "011bee7f",
   "metadata": {},
   "outputs": [],
   "source": [
    "from catboost import CatBoostClassifier"
   ]
  },
  {
   "cell_type": "code",
   "execution_count": 104,
   "id": "8b79d411",
   "metadata": {},
   "outputs": [
    {
     "name": "stdout",
     "output_type": "stream",
     "text": [
      "Learning rate set to 0.5\n",
      "0:\tlearn: 0.1763635\ttotal: 72.7ms\tremaining: 3.56s\n",
      "1:\tlearn: 0.1061323\ttotal: 127ms\tremaining: 3.05s\n",
      "2:\tlearn: 0.0861828\ttotal: 217ms\tremaining: 3.4s\n",
      "3:\tlearn: 0.0773888\ttotal: 299ms\tremaining: 3.44s\n",
      "4:\tlearn: 0.0675539\ttotal: 373ms\tremaining: 3.36s\n",
      "5:\tlearn: 0.0585174\ttotal: 466ms\tremaining: 3.42s\n",
      "6:\tlearn: 0.0492163\ttotal: 552ms\tremaining: 3.39s\n",
      "7:\tlearn: 0.0450783\ttotal: 642ms\tremaining: 3.37s\n",
      "8:\tlearn: 0.0390607\ttotal: 729ms\tremaining: 3.32s\n",
      "9:\tlearn: 0.0356681\ttotal: 815ms\tremaining: 3.26s\n",
      "10:\tlearn: 0.0318126\ttotal: 899ms\tremaining: 3.19s\n",
      "11:\tlearn: 0.0295963\ttotal: 977ms\tremaining: 3.09s\n",
      "12:\tlearn: 0.0265564\ttotal: 1.06s\tremaining: 3.01s\n",
      "13:\tlearn: 0.0253412\ttotal: 1.14s\tremaining: 2.93s\n",
      "14:\tlearn: 0.0225255\ttotal: 1.22s\tremaining: 2.85s\n",
      "15:\tlearn: 0.0211195\ttotal: 1.31s\tremaining: 2.77s\n",
      "16:\tlearn: 0.0191876\ttotal: 1.37s\tremaining: 2.66s\n",
      "17:\tlearn: 0.0180613\ttotal: 1.46s\tremaining: 2.6s\n",
      "18:\tlearn: 0.0169621\ttotal: 1.56s\tremaining: 2.54s\n",
      "19:\tlearn: 0.0163080\ttotal: 1.63s\tremaining: 2.45s\n",
      "20:\tlearn: 0.0152708\ttotal: 1.71s\tremaining: 2.36s\n",
      "21:\tlearn: 0.0143998\ttotal: 1.8s\tremaining: 2.3s\n",
      "22:\tlearn: 0.0134746\ttotal: 1.88s\tremaining: 2.21s\n",
      "23:\tlearn: 0.0124084\ttotal: 1.98s\tremaining: 2.14s\n",
      "24:\tlearn: 0.0118319\ttotal: 2.05s\tremaining: 2.05s\n",
      "25:\tlearn: 0.0113800\ttotal: 2.11s\tremaining: 1.95s\n",
      "26:\tlearn: 0.0104136\ttotal: 2.2s\tremaining: 1.88s\n",
      "27:\tlearn: 0.0100671\ttotal: 2.29s\tremaining: 1.79s\n",
      "28:\tlearn: 0.0098021\ttotal: 2.35s\tremaining: 1.7s\n",
      "29:\tlearn: 0.0093703\ttotal: 2.44s\tremaining: 1.63s\n",
      "30:\tlearn: 0.0085130\ttotal: 2.53s\tremaining: 1.55s\n",
      "31:\tlearn: 0.0077551\ttotal: 2.6s\tremaining: 1.46s\n",
      "32:\tlearn: 0.0075435\ttotal: 2.7s\tremaining: 1.39s\n",
      "33:\tlearn: 0.0072349\ttotal: 2.79s\tremaining: 1.31s\n",
      "34:\tlearn: 0.0070595\ttotal: 2.87s\tremaining: 1.23s\n",
      "35:\tlearn: 0.0067383\ttotal: 2.96s\tremaining: 1.15s\n",
      "36:\tlearn: 0.0063516\ttotal: 3.05s\tremaining: 1.07s\n",
      "37:\tlearn: 0.0060927\ttotal: 3.13s\tremaining: 988ms\n",
      "38:\tlearn: 0.0059279\ttotal: 3.21s\tremaining: 904ms\n",
      "39:\tlearn: 0.0057064\ttotal: 3.32s\tremaining: 830ms\n",
      "40:\tlearn: 0.0053944\ttotal: 3.4s\tremaining: 747ms\n",
      "41:\tlearn: 0.0052482\ttotal: 3.52s\tremaining: 670ms\n",
      "42:\tlearn: 0.0052479\ttotal: 3.57s\tremaining: 581ms\n",
      "43:\tlearn: 0.0052173\ttotal: 3.66s\tremaining: 499ms\n",
      "44:\tlearn: 0.0050347\ttotal: 3.75s\tremaining: 417ms\n",
      "45:\tlearn: 0.0050082\ttotal: 3.84s\tremaining: 334ms\n",
      "46:\tlearn: 0.0049295\ttotal: 3.93s\tremaining: 251ms\n",
      "47:\tlearn: 0.0047518\ttotal: 4s\tremaining: 167ms\n",
      "48:\tlearn: 0.0045561\ttotal: 4.09s\tremaining: 83.4ms\n",
      "49:\tlearn: 0.0044891\ttotal: 4.16s\tremaining: 0us\n"
     ]
    }
   ],
   "source": [
    "model = CatBoostClassifier(iterations=50)\n",
    "model.fit(x_train_res, y_train_res)\n",
    "y_pred = model.predict(x_valid)"
   ]
  },
  {
   "cell_type": "code",
   "execution_count": 105,
   "id": "5171ed94",
   "metadata": {},
   "outputs": [
    {
     "name": "stdout",
     "output_type": "stream",
     "text": [
      "Training Score : 0.9992730561790225\n",
      "Validation Score : 0.9976525350614955\n",
      "              precision    recall  f1-score   support\n",
      "\n",
      "           0       1.00      1.00      1.00     49765\n",
      "           1       0.38      0.89      0.54        76\n",
      "\n",
      "    accuracy                           1.00     49841\n",
      "   macro avg       0.69      0.95      0.77     49841\n",
      "weighted avg       1.00      1.00      1.00     49841\n",
      "\n",
      "\n"
     ]
    }
   ],
   "source": [
    "print(f'Training Score : {model.score(x_train_res, y_train_res)}')\n",
    "print(f'Validation Score : {model.score(x_valid, y_valid)}')\n",
    "    \n",
    "print(classification_report(y_valid, y_pred), end='\\n\\n')"
   ]
  },
  {
   "cell_type": "code",
   "execution_count": 106,
   "id": "f5437129",
   "metadata": {},
   "outputs": [],
   "source": [
    "para_grid = { \n",
    "    'n_estimators': [10, 50, 100, 200],\n",
    "    'max_depth' : [4,5,6,7],\n",
    "}"
   ]
  },
  {
   "cell_type": "code",
   "execution_count": 107,
   "id": "da26e11d",
   "metadata": {},
   "outputs": [],
   "source": [
    "#para_grid=[\n",
    "#    {'n_estimators':[10,50],'max_features':[5, 10, 15]}\n",
    "# ]\n",
    "\n",
    "#randomForest_model = GridSearchCV(estimator=RandomForestClassifier(), param_grid=para_grid, cv=5, scoring='f1')\n",
    "#randomForest_model.fit(x_train_res, y_train_res)"
   ]
  },
  {
   "cell_type": "code",
   "execution_count": 108,
   "id": "53901dbd",
   "metadata": {},
   "outputs": [
    {
     "data": {
      "text/plain": [
       "{'max_depth': 7, 'n_estimators': 100}"
      ]
     },
     "execution_count": 108,
     "metadata": {},
     "output_type": "execute_result"
    }
   ],
   "source": [
    "randomForest_model.best_params_"
   ]
  },
  {
   "cell_type": "code",
   "execution_count": 109,
   "id": "2e89c92b",
   "metadata": {},
   "outputs": [
    {
     "data": {
      "text/html": [
       "<style>#sk-container-id-4 {color: black;background-color: white;}#sk-container-id-4 pre{padding: 0;}#sk-container-id-4 div.sk-toggleable {background-color: white;}#sk-container-id-4 label.sk-toggleable__label {cursor: pointer;display: block;width: 100%;margin-bottom: 0;padding: 0.3em;box-sizing: border-box;text-align: center;}#sk-container-id-4 label.sk-toggleable__label-arrow:before {content: \"▸\";float: left;margin-right: 0.25em;color: #696969;}#sk-container-id-4 label.sk-toggleable__label-arrow:hover:before {color: black;}#sk-container-id-4 div.sk-estimator:hover label.sk-toggleable__label-arrow:before {color: black;}#sk-container-id-4 div.sk-toggleable__content {max-height: 0;max-width: 0;overflow: hidden;text-align: left;background-color: #f0f8ff;}#sk-container-id-4 div.sk-toggleable__content pre {margin: 0.2em;color: black;border-radius: 0.25em;background-color: #f0f8ff;}#sk-container-id-4 input.sk-toggleable__control:checked~div.sk-toggleable__content {max-height: 200px;max-width: 100%;overflow: auto;}#sk-container-id-4 input.sk-toggleable__control:checked~label.sk-toggleable__label-arrow:before {content: \"▾\";}#sk-container-id-4 div.sk-estimator input.sk-toggleable__control:checked~label.sk-toggleable__label {background-color: #d4ebff;}#sk-container-id-4 div.sk-label input.sk-toggleable__control:checked~label.sk-toggleable__label {background-color: #d4ebff;}#sk-container-id-4 input.sk-hidden--visually {border: 0;clip: rect(1px 1px 1px 1px);clip: rect(1px, 1px, 1px, 1px);height: 1px;margin: -1px;overflow: hidden;padding: 0;position: absolute;width: 1px;}#sk-container-id-4 div.sk-estimator {font-family: monospace;background-color: #f0f8ff;border: 1px dotted black;border-radius: 0.25em;box-sizing: border-box;margin-bottom: 0.5em;}#sk-container-id-4 div.sk-estimator:hover {background-color: #d4ebff;}#sk-container-id-4 div.sk-parallel-item::after {content: \"\";width: 100%;border-bottom: 1px solid gray;flex-grow: 1;}#sk-container-id-4 div.sk-label:hover label.sk-toggleable__label {background-color: #d4ebff;}#sk-container-id-4 div.sk-serial::before {content: \"\";position: absolute;border-left: 1px solid gray;box-sizing: border-box;top: 0;bottom: 0;left: 50%;z-index: 0;}#sk-container-id-4 div.sk-serial {display: flex;flex-direction: column;align-items: center;background-color: white;padding-right: 0.2em;padding-left: 0.2em;position: relative;}#sk-container-id-4 div.sk-item {position: relative;z-index: 1;}#sk-container-id-4 div.sk-parallel {display: flex;align-items: stretch;justify-content: center;background-color: white;position: relative;}#sk-container-id-4 div.sk-item::before, #sk-container-id-4 div.sk-parallel-item::before {content: \"\";position: absolute;border-left: 1px solid gray;box-sizing: border-box;top: 0;bottom: 0;left: 50%;z-index: -1;}#sk-container-id-4 div.sk-parallel-item {display: flex;flex-direction: column;z-index: 1;position: relative;background-color: white;}#sk-container-id-4 div.sk-parallel-item:first-child::after {align-self: flex-end;width: 50%;}#sk-container-id-4 div.sk-parallel-item:last-child::after {align-self: flex-start;width: 50%;}#sk-container-id-4 div.sk-parallel-item:only-child::after {width: 0;}#sk-container-id-4 div.sk-dashed-wrapped {border: 1px dashed gray;margin: 0 0.4em 0.5em 0.4em;box-sizing: border-box;padding-bottom: 0.4em;background-color: white;}#sk-container-id-4 div.sk-label label {font-family: monospace;font-weight: bold;display: inline-block;line-height: 1.2em;}#sk-container-id-4 div.sk-label-container {text-align: center;}#sk-container-id-4 div.sk-container {/* jupyter's `normalize.less` sets `[hidden] { display: none; }` but bootstrap.min.css set `[hidden] { display: none !important; }` so we also need the `!important` here to be able to override the default hidden behavior on the sphinx rendered scikit-learn.org. See: https://github.com/scikit-learn/scikit-learn/issues/21755 */display: inline-block !important;position: relative;}#sk-container-id-4 div.sk-text-repr-fallback {display: none;}</style><div id=\"sk-container-id-4\" class=\"sk-top-container\"><div class=\"sk-text-repr-fallback\"><pre>RandomForestClassifier(max_depth=7)</pre><b>In a Jupyter environment, please rerun this cell to show the HTML representation or trust the notebook. <br />On GitHub, the HTML representation is unable to render, please try loading this page with nbviewer.org.</b></div><div class=\"sk-container\" hidden><div class=\"sk-item\"><div class=\"sk-estimator sk-toggleable\"><input class=\"sk-toggleable__control sk-hidden--visually\" id=\"sk-estimator-id-6\" type=\"checkbox\" checked><label for=\"sk-estimator-id-6\" class=\"sk-toggleable__label sk-toggleable__label-arrow\">RandomForestClassifier</label><div class=\"sk-toggleable__content\"><pre>RandomForestClassifier(max_depth=7)</pre></div></div></div></div></div>"
      ],
      "text/plain": [
       "RandomForestClassifier(max_depth=7)"
      ]
     },
     "execution_count": 109,
     "metadata": {},
     "output_type": "execute_result"
    }
   ],
   "source": [
    "modelRF = RandomForestClassifier(max_depth=7, n_estimators=100)\n",
    "modelRF.fit(x_train_res, y_train_res)"
   ]
  },
  {
   "cell_type": "code",
   "execution_count": 110,
   "id": "ba6a197d",
   "metadata": {},
   "outputs": [
    {
     "name": "stderr",
     "output_type": "stream",
     "text": [
      "/home/gsunilmadhusudanreddy/anaconda3/lib/python3.9/site-packages/sklearn/base.py:443: UserWarning: X has feature names, but RandomForestClassifier was fitted without feature names\n",
      "  warnings.warn(\n"
     ]
    },
    {
     "name": "stdout",
     "output_type": "stream",
     "text": [
      "Training Score : 0.9992730561790225\n",
      "Validation Score : 0.9976525350614955\n",
      "              precision    recall  f1-score   support\n",
      "\n",
      "           0       1.00      0.99      1.00     49765\n",
      "           1       0.22      0.93      0.35        76\n",
      "\n",
      "    accuracy                           0.99     49841\n",
      "   macro avg       0.61      0.96      0.67     49841\n",
      "weighted avg       1.00      0.99      1.00     49841\n",
      "\n",
      "\n"
     ]
    }
   ],
   "source": [
    "y_pred = modelRF.predict(x_valid)\n",
    "print(f'Training Score : {model.score(x_train_res, y_train_res)}')\n",
    "print(f'Validation Score : {model.score(x_valid, y_valid)}')\n",
    "print(classification_report(y_valid, y_pred), end='\\n\\n')"
   ]
  },
  {
   "cell_type": "code",
   "execution_count": null,
   "id": "310cb28e",
   "metadata": {},
   "outputs": [],
   "source": []
  }
 ],
 "metadata": {
  "kernelspec": {
   "display_name": "Python 3 (ipykernel)",
   "language": "python",
   "name": "python3"
  },
  "language_info": {
   "codemirror_mode": {
    "name": "ipython",
    "version": 3
   },
   "file_extension": ".py",
   "mimetype": "text/x-python",
   "name": "python",
   "nbconvert_exporter": "python",
   "pygments_lexer": "ipython3",
   "version": "3.9.12"
  }
 },
 "nbformat": 4,
 "nbformat_minor": 5
}
